{
 "cells": [
  {
   "cell_type": "code",
   "execution_count": 174,
   "metadata": {},
   "outputs": [],
   "source": [
    "import pandas as pd\n",
    "import altair as alt\n",
    "alt.renderers.set_embed_options(theme='dark')\n",
    "pd.set_option('display.max_colwidth', None)"
   ]
  },
  {
   "cell_type": "markdown",
   "metadata": {},
   "source": [
    "# Analysis & Charts"
   ]
  },
  {
   "cell_type": "code",
   "execution_count": 175,
   "metadata": {},
   "outputs": [],
   "source": [
    "def claim(claim_hash):\n",
    "    try:\n",
    "        df_claim = pd.read_json(\n",
    "            f'https://node-api.flipsidecrypto.com/api/v2/queries/{claim_hash}/data/latest',\n",
    "            convert_dates=[\"BLOCK_TIMESTAMP\"],\n",
    "        )\n",
    "    except Exception as e:\n",
    "        print(e)\n",
    "        return \n",
    "    return df_claim"
   ]
  },
  {
   "cell_type": "code",
   "execution_count": 176,
   "metadata": {},
   "outputs": [],
   "source": [
    "class DataProvider:    \n",
    "    \n",
    "    def __init__(self):\n",
    "        self.vote = 'a3efd3f0-724b-4a26-9f92-6083c7c52785'\n",
    "        self.date_wallet = '074c2ad1-a842-442d-a0f5-6456b35be648'\n",
    "        self.validators_voting_power = 'fe7c80cd-d061-4c66-8230-68f7776bafbb'\n",
    "        self.validators = 'db245c79-577e-4aa0-876e-49e57556afaa'\n",
    "    \n",
    "    def get_vote(self):\n",
    "        df = claim(self.vote)\n",
    "        df.columns = [c.lower() for c in df.columns]\n",
    "        return df\n",
    "    \n",
    "    def get_date_wallet(self):\n",
    "        df = claim(self.date_wallet)\n",
    "        df.columns = [c.lower() for c in df.columns]\n",
    "        return df\n",
    "    \n",
    "    def get_validators(self):\n",
    "        df = claim(self.validators)\n",
    "        df.columns = [c.lower() for c in df.columns]\n",
    "        return df\n",
    "    \n",
    "    def get_validators_voting_powers(self):\n",
    "        df = claim(self.validators_voting_power)\n",
    "        df.columns = [c.lower() for c in df.columns]\n",
    "        df['day'] = df.day.apply(lambda x: str(x)[:10])\n",
    "        df = df[df.day=='2022-05-12']\n",
    "        return df\n",
    "    \n",
    "   "
   ]
  },
  {
   "cell_type": "code",
   "execution_count": 177,
   "metadata": {},
   "outputs": [],
   "source": [
    "dp = DataProvider()"
   ]
  },
  {
   "cell_type": "markdown",
   "metadata": {},
   "source": [
    "## Handle Validators"
   ]
  },
  {
   "cell_type": "code",
   "execution_count": 178,
   "metadata": {},
   "outputs": [
    {
     "data": {
      "text/html": [
       "<div>\n",
       "<style scoped>\n",
       "    .dataframe tbody tr th:only-of-type {\n",
       "        vertical-align: middle;\n",
       "    }\n",
       "\n",
       "    .dataframe tbody tr th {\n",
       "        vertical-align: top;\n",
       "    }\n",
       "\n",
       "    .dataframe thead th {\n",
       "        text-align: right;\n",
       "    }\n",
       "</style>\n",
       "<table border=\"1\" class=\"dataframe\">\n",
       "  <thead>\n",
       "    <tr style=\"text-align: right;\">\n",
       "      <th></th>\n",
       "      <th>label</th>\n",
       "      <th>operator_address</th>\n",
       "      <th>delegator_address</th>\n",
       "      <th>vp_address</th>\n",
       "      <th>address</th>\n",
       "    </tr>\n",
       "  </thead>\n",
       "  <tbody>\n",
       "    <tr>\n",
       "      <th>37</th>\n",
       "      <td>Orion.Money</td>\n",
       "      <td>terravaloper1259cmu5zyklsdkmgstxhwqpe0utfe5hhyty0at</td>\n",
       "      <td>terra1259cmu5zyklsdkmgstxhwqpe0utfe5hhyygjdc</td>\n",
       "      <td>terravalcons1ty43n6et4c2hc9ccpmrlvk3yj68lpxreekqgyd</td>\n",
       "      <td>terra1259cmu5zyklsdkmgstxhwqpe0utfe5hhyygjdc</td>\n",
       "    </tr>\n",
       "  </tbody>\n",
       "</table>\n",
       "</div>"
      ],
      "text/plain": [
       "          label                                     operator_address  \\\n",
       "37  Orion.Money  terravaloper1259cmu5zyklsdkmgstxhwqpe0utfe5hhyty0at   \n",
       "\n",
       "                               delegator_address  \\\n",
       "37  terra1259cmu5zyklsdkmgstxhwqpe0utfe5hhyygjdc   \n",
       "\n",
       "                                             vp_address  \\\n",
       "37  terravalcons1ty43n6et4c2hc9ccpmrlvk3yj68lpxreekqgyd   \n",
       "\n",
       "                                         address  \n",
       "37  terra1259cmu5zyklsdkmgstxhwqpe0utfe5hhyygjdc  "
      ]
     },
     "execution_count": 178,
     "metadata": {},
     "output_type": "execute_result"
    }
   ],
   "source": [
    "valid = dp.get_validators()\n",
    "valid['address'] = valid.delegator_address\n",
    "valid[valid.operator_address=='terravaloper1259cmu5zyklsdkmgstxhwqpe0utfe5hhyty0at']"
   ]
  },
  {
   "cell_type": "code",
   "execution_count": 179,
   "metadata": {},
   "outputs": [
    {
     "data": {
      "text/plain": [
       "Index(['day', 'address', 'voting_power', 'date', 'vp_address'], dtype='object')"
      ]
     },
     "execution_count": 179,
     "metadata": {},
     "output_type": "execute_result"
    }
   ],
   "source": [
    "valid_vp = dp.get_validators_voting_powers()\n",
    "valid_vp['date'] = valid_vp['day'].apply(str)\n",
    "valid_vp['vp_address'] = valid_vp.address\n",
    "valid_vp.columns"
   ]
  },
  {
   "cell_type": "code",
   "execution_count": 180,
   "metadata": {},
   "outputs": [
    {
     "data": {
      "text/plain": [
       "Index(['date', 'address', 'blockchain', 'chain_id', 'tx_status', 'block_id',\n",
       "       'block_timestamp', 'tx_id', 'msg_type', 'voter', 'voter_label_type',\n",
       "       'voter_label_subtype', 'voter_address_label', 'voter_address_name',\n",
       "       'proposal_id', 'option', 'voting_power', 'address_label_type',\n",
       "       'address_label_subtype', 'address_label', 'address_name', 'balance',\n",
       "       'balance_usd', 'balance_type', 'is_native', 'currency'],\n",
       "      dtype='object')"
      ]
     },
     "execution_count": 180,
     "metadata": {},
     "output_type": "execute_result"
    }
   ],
   "source": [
    "votes = dp.get_vote()\n",
    "votes['date'] = votes['date'].apply(lambda x: str(x)[:10])\n",
    "votes.columns"
   ]
  },
  {
   "cell_type": "code",
   "execution_count": 181,
   "metadata": {},
   "outputs": [
    {
     "data": {
      "text/html": [
       "<div>\n",
       "<style scoped>\n",
       "    .dataframe tbody tr th:only-of-type {\n",
       "        vertical-align: middle;\n",
       "    }\n",
       "\n",
       "    .dataframe tbody tr th {\n",
       "        vertical-align: top;\n",
       "    }\n",
       "\n",
       "    .dataframe thead th {\n",
       "        text-align: right;\n",
       "    }\n",
       "</style>\n",
       "<table border=\"1\" class=\"dataframe\">\n",
       "  <thead>\n",
       "    <tr style=\"text-align: right;\">\n",
       "      <th></th>\n",
       "      <th>label</th>\n",
       "      <th>operator_address</th>\n",
       "      <th>delegator_address</th>\n",
       "      <th>vp_address</th>\n",
       "      <th>address</th>\n",
       "      <th>date</th>\n",
       "      <th>blockchain</th>\n",
       "      <th>chain_id</th>\n",
       "      <th>tx_status</th>\n",
       "      <th>block_id</th>\n",
       "      <th>...</th>\n",
       "      <th>address_label_subtype</th>\n",
       "      <th>address_label</th>\n",
       "      <th>address_name</th>\n",
       "      <th>balance</th>\n",
       "      <th>balance_usd</th>\n",
       "      <th>balance_type</th>\n",
       "      <th>is_native</th>\n",
       "      <th>currency</th>\n",
       "      <th>day</th>\n",
       "      <th>voting_power</th>\n",
       "    </tr>\n",
       "  </thead>\n",
       "  <tbody>\n",
       "    <tr>\n",
       "      <th>2</th>\n",
       "      <td>Orion.Money</td>\n",
       "      <td>terravaloper1259cmu5zyklsdkmgstxhwqpe0utfe5hhyty0at</td>\n",
       "      <td>terra1259cmu5zyklsdkmgstxhwqpe0utfe5hhyygjdc</td>\n",
       "      <td>terravalcons1ty43n6et4c2hc9ccpmrlvk3yj68lpxreekqgyd</td>\n",
       "      <td>terra1259cmu5zyklsdkmgstxhwqpe0utfe5hhyygjdc</td>\n",
       "      <td>2022-05-20 00:00:00</td>\n",
       "      <td>terra</td>\n",
       "      <td>columbus-5</td>\n",
       "      <td>SUCCEEDED</td>\n",
       "      <td>7710376</td>\n",
       "      <td>...</td>\n",
       "      <td>validator</td>\n",
       "      <td>Orion.Money</td>\n",
       "      <td>delegator_address</td>\n",
       "      <td>1.680850e+07</td>\n",
       "      <td>0.0</td>\n",
       "      <td>staked</td>\n",
       "      <td>True</td>\n",
       "      <td>LUNA</td>\n",
       "      <td>2022-05-12</td>\n",
       "      <td>1.680850e+07</td>\n",
       "    </tr>\n",
       "  </tbody>\n",
       "</table>\n",
       "<p>1 rows × 31 columns</p>\n",
       "</div>"
      ],
      "text/plain": [
       "         label                                     operator_address  \\\n",
       "2  Orion.Money  terravaloper1259cmu5zyklsdkmgstxhwqpe0utfe5hhyty0at   \n",
       "\n",
       "                              delegator_address  \\\n",
       "2  terra1259cmu5zyklsdkmgstxhwqpe0utfe5hhyygjdc   \n",
       "\n",
       "                                            vp_address  \\\n",
       "2  terravalcons1ty43n6et4c2hc9ccpmrlvk3yj68lpxreekqgyd   \n",
       "\n",
       "                                        address                 date  \\\n",
       "2  terra1259cmu5zyklsdkmgstxhwqpe0utfe5hhyygjdc  2022-05-20 00:00:00   \n",
       "\n",
       "  blockchain    chain_id  tx_status  block_id  ... address_label_subtype  \\\n",
       "2      terra  columbus-5  SUCCEEDED   7710376  ...             validator   \n",
       "\n",
       "  address_label       address_name       balance balance_usd balance_type  \\\n",
       "2   Orion.Money  delegator_address  1.680850e+07         0.0       staked   \n",
       "\n",
       "  is_native currency         day  voting_power  \n",
       "2      True     LUNA  2022-05-12  1.680850e+07  \n",
       "\n",
       "[1 rows x 31 columns]"
      ]
     },
     "execution_count": 181,
     "metadata": {},
     "output_type": "execute_result"
    }
   ],
   "source": [
    "valid_final = valid.merge(votes.drop(columns=['voting_power']),on='address')\\\n",
    "                   .merge(valid_vp.drop(columns=['address','date']), on=['vp_address'])\n",
    "valid_final['balance'] = valid_final.voting_power\n",
    "valid_final['date'] = valid_final['date']+' 00:00:00'\n",
    "valid_final[valid_final.address=='terra1259cmu5zyklsdkmgstxhwqpe0utfe5hhyygjdc']"
   ]
  },
  {
   "cell_type": "markdown",
   "metadata": {},
   "source": [
    "## ----------------"
   ]
  },
  {
   "cell_type": "code",
   "execution_count": 182,
   "metadata": {},
   "outputs": [
    {
     "data": {
      "text/html": [
       "<div>\n",
       "<style scoped>\n",
       "    .dataframe tbody tr th:only-of-type {\n",
       "        vertical-align: middle;\n",
       "    }\n",
       "\n",
       "    .dataframe tbody tr th {\n",
       "        vertical-align: top;\n",
       "    }\n",
       "\n",
       "    .dataframe thead th {\n",
       "        text-align: right;\n",
       "    }\n",
       "</style>\n",
       "<table border=\"1\" class=\"dataframe\">\n",
       "  <thead>\n",
       "    <tr style=\"text-align: right;\">\n",
       "      <th></th>\n",
       "      <th>date</th>\n",
       "      <th>address</th>\n",
       "      <th>blockchain</th>\n",
       "      <th>chain_id</th>\n",
       "      <th>tx_status</th>\n",
       "      <th>block_id</th>\n",
       "      <th>block_timestamp</th>\n",
       "      <th>tx_id</th>\n",
       "      <th>msg_type</th>\n",
       "      <th>voter</th>\n",
       "      <th>...</th>\n",
       "      <th>voting_power</th>\n",
       "      <th>address_label_type</th>\n",
       "      <th>address_label_subtype</th>\n",
       "      <th>address_label</th>\n",
       "      <th>address_name</th>\n",
       "      <th>balance</th>\n",
       "      <th>balance_usd</th>\n",
       "      <th>balance_type</th>\n",
       "      <th>is_native</th>\n",
       "      <th>currency</th>\n",
       "    </tr>\n",
       "  </thead>\n",
       "  <tbody>\n",
       "    <tr>\n",
       "      <th>9266</th>\n",
       "      <td>2022-05-20</td>\n",
       "      <td>terra1259cmu5zyklsdkmgstxhwqpe0utfe5hhyygjdc</td>\n",
       "      <td>terra</td>\n",
       "      <td>columbus-5</td>\n",
       "      <td>SUCCEEDED</td>\n",
       "      <td>7710376</td>\n",
       "      <td>2022-05-20 22:59:05.095</td>\n",
       "      <td>4787E4BF3B47BF48F161BF1DFAA9747850D8196903667DC7B2B92F1EDF75BCC7</td>\n",
       "      <td>gov/MsgVote</td>\n",
       "      <td>terra1259cmu5zyklsdkmgstxhwqpe0utfe5hhyygjdc</td>\n",
       "      <td>...</td>\n",
       "      <td>NaN</td>\n",
       "      <td>operator</td>\n",
       "      <td>validator</td>\n",
       "      <td>Orion.Money</td>\n",
       "      <td>delegator_address</td>\n",
       "      <td>0.0</td>\n",
       "      <td>0.0</td>\n",
       "      <td>staked</td>\n",
       "      <td>True</td>\n",
       "      <td>LUNA</td>\n",
       "    </tr>\n",
       "  </tbody>\n",
       "</table>\n",
       "<p>1 rows × 26 columns</p>\n",
       "</div>"
      ],
      "text/plain": [
       "           date                                       address blockchain  \\\n",
       "9266 2022-05-20  terra1259cmu5zyklsdkmgstxhwqpe0utfe5hhyygjdc      terra   \n",
       "\n",
       "        chain_id  tx_status  block_id         block_timestamp  \\\n",
       "9266  columbus-5  SUCCEEDED   7710376 2022-05-20 22:59:05.095   \n",
       "\n",
       "                                                                 tx_id  \\\n",
       "9266  4787E4BF3B47BF48F161BF1DFAA9747850D8196903667DC7B2B92F1EDF75BCC7   \n",
       "\n",
       "         msg_type                                         voter  ...  \\\n",
       "9266  gov/MsgVote  terra1259cmu5zyklsdkmgstxhwqpe0utfe5hhyygjdc  ...   \n",
       "\n",
       "     voting_power address_label_type address_label_subtype address_label  \\\n",
       "9266          NaN           operator             validator   Orion.Money   \n",
       "\n",
       "           address_name balance  balance_usd balance_type is_native currency  \n",
       "9266  delegator_address     0.0          0.0       staked      True     LUNA  \n",
       "\n",
       "[1 rows x 26 columns]"
      ]
     },
     "execution_count": 182,
     "metadata": {},
     "output_type": "execute_result"
    }
   ],
   "source": [
    "df = dp.get_vote()\n",
    "df[df.address=='terra1259cmu5zyklsdkmgstxhwqpe0utfe5hhyygjdc']"
   ]
  },
  {
   "cell_type": "markdown",
   "metadata": {},
   "source": [
    "**Merge validators and normal users**"
   ]
  },
  {
   "cell_type": "code",
   "execution_count": 183,
   "metadata": {},
   "outputs": [],
   "source": [
    "df = df[~df.address.isin(valid_final.address.values)].append(valid_final[df.columns])"
   ]
  },
  {
   "cell_type": "code",
   "execution_count": 184,
   "metadata": {},
   "outputs": [
    {
     "data": {
      "text/html": [
       "<div>\n",
       "<style scoped>\n",
       "    .dataframe tbody tr th:only-of-type {\n",
       "        vertical-align: middle;\n",
       "    }\n",
       "\n",
       "    .dataframe tbody tr th {\n",
       "        vertical-align: top;\n",
       "    }\n",
       "\n",
       "    .dataframe thead th {\n",
       "        text-align: right;\n",
       "    }\n",
       "</style>\n",
       "<table border=\"1\" class=\"dataframe\">\n",
       "  <thead>\n",
       "    <tr style=\"text-align: right;\">\n",
       "      <th></th>\n",
       "      <th>date</th>\n",
       "      <th>address</th>\n",
       "      <th>blockchain</th>\n",
       "      <th>chain_id</th>\n",
       "      <th>tx_status</th>\n",
       "      <th>block_id</th>\n",
       "      <th>block_timestamp</th>\n",
       "      <th>tx_id</th>\n",
       "      <th>msg_type</th>\n",
       "      <th>voter</th>\n",
       "      <th>...</th>\n",
       "      <th>voting_power</th>\n",
       "      <th>address_label_type</th>\n",
       "      <th>address_label_subtype</th>\n",
       "      <th>address_label</th>\n",
       "      <th>address_name</th>\n",
       "      <th>balance</th>\n",
       "      <th>balance_usd</th>\n",
       "      <th>balance_type</th>\n",
       "      <th>is_native</th>\n",
       "      <th>currency</th>\n",
       "    </tr>\n",
       "  </thead>\n",
       "  <tbody>\n",
       "    <tr>\n",
       "      <th>2</th>\n",
       "      <td>2022-05-20 00:00:00</td>\n",
       "      <td>terra1259cmu5zyklsdkmgstxhwqpe0utfe5hhyygjdc</td>\n",
       "      <td>terra</td>\n",
       "      <td>columbus-5</td>\n",
       "      <td>SUCCEEDED</td>\n",
       "      <td>7710376</td>\n",
       "      <td>2022-05-20 22:59:05.095</td>\n",
       "      <td>4787E4BF3B47BF48F161BF1DFAA9747850D8196903667DC7B2B92F1EDF75BCC7</td>\n",
       "      <td>gov/MsgVote</td>\n",
       "      <td>terra1259cmu5zyklsdkmgstxhwqpe0utfe5hhyygjdc</td>\n",
       "      <td>...</td>\n",
       "      <td>1.680850e+07</td>\n",
       "      <td>operator</td>\n",
       "      <td>validator</td>\n",
       "      <td>Orion.Money</td>\n",
       "      <td>delegator_address</td>\n",
       "      <td>1.680850e+07</td>\n",
       "      <td>0.0</td>\n",
       "      <td>staked</td>\n",
       "      <td>True</td>\n",
       "      <td>LUNA</td>\n",
       "    </tr>\n",
       "  </tbody>\n",
       "</table>\n",
       "<p>1 rows × 26 columns</p>\n",
       "</div>"
      ],
      "text/plain": [
       "                  date                                       address  \\\n",
       "2  2022-05-20 00:00:00  terra1259cmu5zyklsdkmgstxhwqpe0utfe5hhyygjdc   \n",
       "\n",
       "  blockchain    chain_id  tx_status  block_id         block_timestamp  \\\n",
       "2      terra  columbus-5  SUCCEEDED   7710376 2022-05-20 22:59:05.095   \n",
       "\n",
       "                                                              tx_id  \\\n",
       "2  4787E4BF3B47BF48F161BF1DFAA9747850D8196903667DC7B2B92F1EDF75BCC7   \n",
       "\n",
       "      msg_type                                         voter  ...  \\\n",
       "2  gov/MsgVote  terra1259cmu5zyklsdkmgstxhwqpe0utfe5hhyygjdc  ...   \n",
       "\n",
       "   voting_power address_label_type address_label_subtype address_label  \\\n",
       "2  1.680850e+07           operator             validator   Orion.Money   \n",
       "\n",
       "        address_name       balance  balance_usd balance_type is_native  \\\n",
       "2  delegator_address  1.680850e+07          0.0       staked      True   \n",
       "\n",
       "  currency  \n",
       "2     LUNA  \n",
       "\n",
       "[1 rows x 26 columns]"
      ]
     },
     "execution_count": 184,
     "metadata": {},
     "output_type": "execute_result"
    }
   ],
   "source": [
    "df[df.address=='terra1259cmu5zyklsdkmgstxhwqpe0utfe5hhyygjdc']"
   ]
  },
  {
   "cell_type": "code",
   "execution_count": 185,
   "metadata": {},
   "outputs": [
    {
     "data": {
      "text/html": [
       "<div>\n",
       "<style scoped>\n",
       "    .dataframe tbody tr th:only-of-type {\n",
       "        vertical-align: middle;\n",
       "    }\n",
       "\n",
       "    .dataframe tbody tr th {\n",
       "        vertical-align: top;\n",
       "    }\n",
       "\n",
       "    .dataframe thead th {\n",
       "        text-align: right;\n",
       "    }\n",
       "</style>\n",
       "<table border=\"1\" class=\"dataframe\">\n",
       "  <thead>\n",
       "    <tr style=\"text-align: right;\">\n",
       "      <th></th>\n",
       "      <th>date</th>\n",
       "      <th>address</th>\n",
       "      <th>blockchain</th>\n",
       "      <th>chain_id</th>\n",
       "      <th>tx_status</th>\n",
       "      <th>block_id</th>\n",
       "      <th>block_timestamp</th>\n",
       "      <th>tx_id</th>\n",
       "      <th>msg_type</th>\n",
       "      <th>voter</th>\n",
       "      <th>...</th>\n",
       "      <th>voting_power</th>\n",
       "      <th>address_label_type</th>\n",
       "      <th>address_label_subtype</th>\n",
       "      <th>address_label</th>\n",
       "      <th>address_name</th>\n",
       "      <th>balance</th>\n",
       "      <th>balance_usd</th>\n",
       "      <th>balance_type</th>\n",
       "      <th>is_native</th>\n",
       "      <th>currency</th>\n",
       "    </tr>\n",
       "  </thead>\n",
       "  <tbody>\n",
       "    <tr>\n",
       "      <th>0</th>\n",
       "      <td>2022-05-19 00:00:00</td>\n",
       "      <td>terra1dnaypxevg7cadcev2jqv9stprtrq2yllk88x5v</td>\n",
       "      <td>terra</td>\n",
       "      <td>columbus-5</td>\n",
       "      <td>SUCCEEDED</td>\n",
       "      <td>7696899</td>\n",
       "      <td>2022-05-19 23:27:57.490</td>\n",
       "      <td>27861642CD72433874C3EE1754612B32328CDFE6D6A121B9EA76C8595264EE9E</td>\n",
       "      <td>gov/MsgVote</td>\n",
       "      <td>terra1dnaypxevg7cadcev2jqv9stprtrq2yllk88x5v</td>\n",
       "      <td>...</td>\n",
       "      <td>NaN</td>\n",
       "      <td>None</td>\n",
       "      <td>None</td>\n",
       "      <td>None</td>\n",
       "      <td>None</td>\n",
       "      <td>1.029998e+01</td>\n",
       "      <td>0.001462</td>\n",
       "      <td>staked</td>\n",
       "      <td>True</td>\n",
       "      <td>LUNA</td>\n",
       "    </tr>\n",
       "    <tr>\n",
       "      <th>1</th>\n",
       "      <td>2022-05-18 00:00:00</td>\n",
       "      <td>terra184620h8m0z75ts2a3wrhj3rfsct5waww507lvl</td>\n",
       "      <td>terra</td>\n",
       "      <td>columbus-5</td>\n",
       "      <td>SUCCEEDED</td>\n",
       "      <td>7679381</td>\n",
       "      <td>2022-05-18 17:02:13.630</td>\n",
       "      <td>8318DF81A6D78572DC3A8948F700BC9C8B99516302377294EDB84AE36433EFD7</td>\n",
       "      <td>gov/MsgVote</td>\n",
       "      <td>terra184620h8m0z75ts2a3wrhj3rfsct5waww507lvl</td>\n",
       "      <td>...</td>\n",
       "      <td>NaN</td>\n",
       "      <td>None</td>\n",
       "      <td>None</td>\n",
       "      <td>None</td>\n",
       "      <td>None</td>\n",
       "      <td>0.000000e+00</td>\n",
       "      <td>0.000000</td>\n",
       "      <td>staked</td>\n",
       "      <td>True</td>\n",
       "      <td>LUNA</td>\n",
       "    </tr>\n",
       "    <tr>\n",
       "      <th>2</th>\n",
       "      <td>2022-05-19 00:00:00</td>\n",
       "      <td>terra1htwtny8r275mpukpjtw3l2r5e88gzkvvqp7zw3</td>\n",
       "      <td>terra</td>\n",
       "      <td>columbus-5</td>\n",
       "      <td>SUCCEEDED</td>\n",
       "      <td>7690733</td>\n",
       "      <td>2022-05-19 12:40:38.729</td>\n",
       "      <td>0459D81E1ACA4160A4BBA1E6310C2549E7A086A2DDF3CBC96076C0B95A8C02C6</td>\n",
       "      <td>gov/MsgVote</td>\n",
       "      <td>terra1htwtny8r275mpukpjtw3l2r5e88gzkvvqp7zw3</td>\n",
       "      <td>...</td>\n",
       "      <td>NaN</td>\n",
       "      <td>None</td>\n",
       "      <td>None</td>\n",
       "      <td>None</td>\n",
       "      <td>None</td>\n",
       "      <td>3.000000e+01</td>\n",
       "      <td>0.004257</td>\n",
       "      <td>staked</td>\n",
       "      <td>True</td>\n",
       "      <td>LUNA</td>\n",
       "    </tr>\n",
       "    <tr>\n",
       "      <th>3</th>\n",
       "      <td>2022-05-19 00:00:00</td>\n",
       "      <td>terra1u9a4h2vu5f7hmwyy9yp78g8eu0pmgmvj9sszkt</td>\n",
       "      <td>terra</td>\n",
       "      <td>columbus-5</td>\n",
       "      <td>SUCCEEDED</td>\n",
       "      <td>7692242</td>\n",
       "      <td>2022-05-19 15:18:00.701</td>\n",
       "      <td>D9FB02562837B99083F52DCCCD9982835AF1C2DE160F0B2FE2F16647D55A55B6</td>\n",
       "      <td>gov/MsgVote</td>\n",
       "      <td>terra1u9a4h2vu5f7hmwyy9yp78g8eu0pmgmvj9sszkt</td>\n",
       "      <td>...</td>\n",
       "      <td>NaN</td>\n",
       "      <td>None</td>\n",
       "      <td>None</td>\n",
       "      <td>None</td>\n",
       "      <td>None</td>\n",
       "      <td>0.000000e+00</td>\n",
       "      <td>0.000000</td>\n",
       "      <td>staked</td>\n",
       "      <td>True</td>\n",
       "      <td>LUNA</td>\n",
       "    </tr>\n",
       "    <tr>\n",
       "      <th>4</th>\n",
       "      <td>2022-05-18 00:00:00</td>\n",
       "      <td>terra1p84p9lyhkzc8tf900xnq2x4d5ujuylts6q4qy8</td>\n",
       "      <td>terra</td>\n",
       "      <td>columbus-5</td>\n",
       "      <td>SUCCEEDED</td>\n",
       "      <td>7680274</td>\n",
       "      <td>2022-05-18 18:35:05.941</td>\n",
       "      <td>08579A55A1B69B536A507797A9D63EA1B05C94AC04BD74CED13C7E98A1F4B736</td>\n",
       "      <td>gov/MsgVote</td>\n",
       "      <td>terra1p84p9lyhkzc8tf900xnq2x4d5ujuylts6q4qy8</td>\n",
       "      <td>...</td>\n",
       "      <td>NaN</td>\n",
       "      <td>None</td>\n",
       "      <td>None</td>\n",
       "      <td>None</td>\n",
       "      <td>None</td>\n",
       "      <td>0.000000e+00</td>\n",
       "      <td>0.000000</td>\n",
       "      <td>staked</td>\n",
       "      <td>True</td>\n",
       "      <td>LUNA</td>\n",
       "    </tr>\n",
       "    <tr>\n",
       "      <th>...</th>\n",
       "      <td>...</td>\n",
       "      <td>...</td>\n",
       "      <td>...</td>\n",
       "      <td>...</td>\n",
       "      <td>...</td>\n",
       "      <td>...</td>\n",
       "      <td>...</td>\n",
       "      <td>...</td>\n",
       "      <td>...</td>\n",
       "      <td>...</td>\n",
       "      <td>...</td>\n",
       "      <td>...</td>\n",
       "      <td>...</td>\n",
       "      <td>...</td>\n",
       "      <td>...</td>\n",
       "      <td>...</td>\n",
       "      <td>...</td>\n",
       "      <td>...</td>\n",
       "      <td>...</td>\n",
       "      <td>...</td>\n",
       "      <td>...</td>\n",
       "    </tr>\n",
       "    <tr>\n",
       "      <th>14</th>\n",
       "      <td>2022-05-19 00:00:00</td>\n",
       "      <td>terra1jyjg55hzsh0f4xymy0kuuan30pp4q75ru0h35c</td>\n",
       "      <td>terra</td>\n",
       "      <td>columbus-5</td>\n",
       "      <td>SUCCEEDED</td>\n",
       "      <td>7687098</td>\n",
       "      <td>2022-05-19 06:22:40.179</td>\n",
       "      <td>26566730DD5BDA142DFA017CACC87C0C0E1C8E4CBCA92C97591CEF6166ADF825</td>\n",
       "      <td>gov/MsgVote</td>\n",
       "      <td>terra1jyjg55hzsh0f4xymy0kuuan30pp4q75ru0h35c</td>\n",
       "      <td>...</td>\n",
       "      <td>1.313944e+06</td>\n",
       "      <td>operator</td>\n",
       "      <td>validator</td>\n",
       "      <td>kytzu</td>\n",
       "      <td>delegator_address</td>\n",
       "      <td>1.313944e+06</td>\n",
       "      <td>0.000000</td>\n",
       "      <td>staked</td>\n",
       "      <td>True</td>\n",
       "      <td>LUNA</td>\n",
       "    </tr>\n",
       "    <tr>\n",
       "      <th>15</th>\n",
       "      <td>2022-05-19 00:00:00</td>\n",
       "      <td>terra198c72uxt9p8r2u5y6zha4390qjkayvjr38ppk4</td>\n",
       "      <td>terra</td>\n",
       "      <td>columbus-5</td>\n",
       "      <td>SUCCEEDED</td>\n",
       "      <td>7683861</td>\n",
       "      <td>2022-05-19 00:47:49.951</td>\n",
       "      <td>070FC58026ADECAD61E91EF3F93C152D825593886771CDEA3019228CBF1F65F1</td>\n",
       "      <td>gov/MsgVote</td>\n",
       "      <td>terra198c72uxt9p8r2u5y6zha4390qjkayvjr38ppk4</td>\n",
       "      <td>...</td>\n",
       "      <td>5.938921e+05</td>\n",
       "      <td>operator</td>\n",
       "      <td>validator</td>\n",
       "      <td>Zerg One</td>\n",
       "      <td>delegator_address</td>\n",
       "      <td>5.938921e+05</td>\n",
       "      <td>0.000142</td>\n",
       "      <td>staked</td>\n",
       "      <td>True</td>\n",
       "      <td>LUNA</td>\n",
       "    </tr>\n",
       "    <tr>\n",
       "      <th>16</th>\n",
       "      <td>2022-05-18 00:00:00</td>\n",
       "      <td>terra1dcrq2xwuhea9hm5xfuydjuwgz6gm7vdjz34gv6</td>\n",
       "      <td>terra</td>\n",
       "      <td>columbus-5</td>\n",
       "      <td>SUCCEEDED</td>\n",
       "      <td>7676948</td>\n",
       "      <td>2022-05-18 12:47:59.626</td>\n",
       "      <td>7D7CEF1BC58A93A6112402A3FA5956BEDB4ABEBC43731125DF49BBE41D4FB667</td>\n",
       "      <td>gov/MsgVote</td>\n",
       "      <td>terra1dcrq2xwuhea9hm5xfuydjuwgz6gm7vdjz34gv6</td>\n",
       "      <td>...</td>\n",
       "      <td>4.777624e+05</td>\n",
       "      <td>operator</td>\n",
       "      <td>validator</td>\n",
       "      <td>Mr.K</td>\n",
       "      <td>delegator_address</td>\n",
       "      <td>4.777624e+05</td>\n",
       "      <td>0.000179</td>\n",
       "      <td>staked</td>\n",
       "      <td>True</td>\n",
       "      <td>LUNA</td>\n",
       "    </tr>\n",
       "    <tr>\n",
       "      <th>17</th>\n",
       "      <td>2022-05-18 00:00:00</td>\n",
       "      <td>terra1qqu376azltyc5wnsje5qgwru5mtj2yqdhj0cwl</td>\n",
       "      <td>terra</td>\n",
       "      <td>columbus-5</td>\n",
       "      <td>SUCCEEDED</td>\n",
       "      <td>7676594</td>\n",
       "      <td>2022-05-18 12:11:14.140</td>\n",
       "      <td>0F2D2EAC3C52C939E1DD41627660D69CCE6B74292AF6A44C0029CCCC36E507F7</td>\n",
       "      <td>gov/MsgVote</td>\n",
       "      <td>terra1qqu376azltyc5wnsje5qgwru5mtj2yqdhj0cwl</td>\n",
       "      <td>...</td>\n",
       "      <td>9.739337e+05</td>\n",
       "      <td>operator</td>\n",
       "      <td>validator</td>\n",
       "      <td>TERRA-FIRMA</td>\n",
       "      <td>delegator_address</td>\n",
       "      <td>9.739337e+05</td>\n",
       "      <td>0.000000</td>\n",
       "      <td>staked</td>\n",
       "      <td>True</td>\n",
       "      <td>LUNA</td>\n",
       "    </tr>\n",
       "    <tr>\n",
       "      <th>18</th>\n",
       "      <td>2022-05-18 00:00:00</td>\n",
       "      <td>terra1x4ce4fhqdnu8j7hrp64qmthumsvuhlq8yq63kx</td>\n",
       "      <td>terra</td>\n",
       "      <td>columbus-5</td>\n",
       "      <td>SUCCEEDED</td>\n",
       "      <td>7678032</td>\n",
       "      <td>2022-05-18 14:41:26.320</td>\n",
       "      <td>C2A1BA538559C39602C524043764BB29CA7B7ACE3A34E74BB590ACFAB198E583</td>\n",
       "      <td>gov/MsgVote</td>\n",
       "      <td>terra1x4ce4fhqdnu8j7hrp64qmthumsvuhlq8yq63kx</td>\n",
       "      <td>...</td>\n",
       "      <td>6.395369e+05</td>\n",
       "      <td>operator</td>\n",
       "      <td>validator</td>\n",
       "      <td>MissionControl</td>\n",
       "      <td>delegator_address</td>\n",
       "      <td>6.395369e+05</td>\n",
       "      <td>0.000000</td>\n",
       "      <td>staked</td>\n",
       "      <td>True</td>\n",
       "      <td>LUNA</td>\n",
       "    </tr>\n",
       "  </tbody>\n",
       "</table>\n",
       "<p>15183 rows × 26 columns</p>\n",
       "</div>"
      ],
      "text/plain": [
       "                   date                                       address  \\\n",
       "0   2022-05-19 00:00:00  terra1dnaypxevg7cadcev2jqv9stprtrq2yllk88x5v   \n",
       "1   2022-05-18 00:00:00  terra184620h8m0z75ts2a3wrhj3rfsct5waww507lvl   \n",
       "2   2022-05-19 00:00:00  terra1htwtny8r275mpukpjtw3l2r5e88gzkvvqp7zw3   \n",
       "3   2022-05-19 00:00:00  terra1u9a4h2vu5f7hmwyy9yp78g8eu0pmgmvj9sszkt   \n",
       "4   2022-05-18 00:00:00  terra1p84p9lyhkzc8tf900xnq2x4d5ujuylts6q4qy8   \n",
       "..                  ...                                           ...   \n",
       "14  2022-05-19 00:00:00  terra1jyjg55hzsh0f4xymy0kuuan30pp4q75ru0h35c   \n",
       "15  2022-05-19 00:00:00  terra198c72uxt9p8r2u5y6zha4390qjkayvjr38ppk4   \n",
       "16  2022-05-18 00:00:00  terra1dcrq2xwuhea9hm5xfuydjuwgz6gm7vdjz34gv6   \n",
       "17  2022-05-18 00:00:00  terra1qqu376azltyc5wnsje5qgwru5mtj2yqdhj0cwl   \n",
       "18  2022-05-18 00:00:00  terra1x4ce4fhqdnu8j7hrp64qmthumsvuhlq8yq63kx   \n",
       "\n",
       "   blockchain    chain_id  tx_status  block_id         block_timestamp  \\\n",
       "0       terra  columbus-5  SUCCEEDED   7696899 2022-05-19 23:27:57.490   \n",
       "1       terra  columbus-5  SUCCEEDED   7679381 2022-05-18 17:02:13.630   \n",
       "2       terra  columbus-5  SUCCEEDED   7690733 2022-05-19 12:40:38.729   \n",
       "3       terra  columbus-5  SUCCEEDED   7692242 2022-05-19 15:18:00.701   \n",
       "4       terra  columbus-5  SUCCEEDED   7680274 2022-05-18 18:35:05.941   \n",
       "..        ...         ...        ...       ...                     ...   \n",
       "14      terra  columbus-5  SUCCEEDED   7687098 2022-05-19 06:22:40.179   \n",
       "15      terra  columbus-5  SUCCEEDED   7683861 2022-05-19 00:47:49.951   \n",
       "16      terra  columbus-5  SUCCEEDED   7676948 2022-05-18 12:47:59.626   \n",
       "17      terra  columbus-5  SUCCEEDED   7676594 2022-05-18 12:11:14.140   \n",
       "18      terra  columbus-5  SUCCEEDED   7678032 2022-05-18 14:41:26.320   \n",
       "\n",
       "                                                               tx_id  \\\n",
       "0   27861642CD72433874C3EE1754612B32328CDFE6D6A121B9EA76C8595264EE9E   \n",
       "1   8318DF81A6D78572DC3A8948F700BC9C8B99516302377294EDB84AE36433EFD7   \n",
       "2   0459D81E1ACA4160A4BBA1E6310C2549E7A086A2DDF3CBC96076C0B95A8C02C6   \n",
       "3   D9FB02562837B99083F52DCCCD9982835AF1C2DE160F0B2FE2F16647D55A55B6   \n",
       "4   08579A55A1B69B536A507797A9D63EA1B05C94AC04BD74CED13C7E98A1F4B736   \n",
       "..                                                               ...   \n",
       "14  26566730DD5BDA142DFA017CACC87C0C0E1C8E4CBCA92C97591CEF6166ADF825   \n",
       "15  070FC58026ADECAD61E91EF3F93C152D825593886771CDEA3019228CBF1F65F1   \n",
       "16  7D7CEF1BC58A93A6112402A3FA5956BEDB4ABEBC43731125DF49BBE41D4FB667   \n",
       "17  0F2D2EAC3C52C939E1DD41627660D69CCE6B74292AF6A44C0029CCCC36E507F7   \n",
       "18  C2A1BA538559C39602C524043764BB29CA7B7ACE3A34E74BB590ACFAB198E583   \n",
       "\n",
       "       msg_type                                         voter  ...  \\\n",
       "0   gov/MsgVote  terra1dnaypxevg7cadcev2jqv9stprtrq2yllk88x5v  ...   \n",
       "1   gov/MsgVote  terra184620h8m0z75ts2a3wrhj3rfsct5waww507lvl  ...   \n",
       "2   gov/MsgVote  terra1htwtny8r275mpukpjtw3l2r5e88gzkvvqp7zw3  ...   \n",
       "3   gov/MsgVote  terra1u9a4h2vu5f7hmwyy9yp78g8eu0pmgmvj9sszkt  ...   \n",
       "4   gov/MsgVote  terra1p84p9lyhkzc8tf900xnq2x4d5ujuylts6q4qy8  ...   \n",
       "..          ...                                           ...  ...   \n",
       "14  gov/MsgVote  terra1jyjg55hzsh0f4xymy0kuuan30pp4q75ru0h35c  ...   \n",
       "15  gov/MsgVote  terra198c72uxt9p8r2u5y6zha4390qjkayvjr38ppk4  ...   \n",
       "16  gov/MsgVote  terra1dcrq2xwuhea9hm5xfuydjuwgz6gm7vdjz34gv6  ...   \n",
       "17  gov/MsgVote  terra1qqu376azltyc5wnsje5qgwru5mtj2yqdhj0cwl  ...   \n",
       "18  gov/MsgVote  terra1x4ce4fhqdnu8j7hrp64qmthumsvuhlq8yq63kx  ...   \n",
       "\n",
       "    voting_power address_label_type address_label_subtype   address_label  \\\n",
       "0            NaN               None                  None            None   \n",
       "1            NaN               None                  None            None   \n",
       "2            NaN               None                  None            None   \n",
       "3            NaN               None                  None            None   \n",
       "4            NaN               None                  None            None   \n",
       "..           ...                ...                   ...             ...   \n",
       "14  1.313944e+06           operator             validator           kytzu   \n",
       "15  5.938921e+05           operator             validator        Zerg One   \n",
       "16  4.777624e+05           operator             validator            Mr.K   \n",
       "17  9.739337e+05           operator             validator     TERRA-FIRMA   \n",
       "18  6.395369e+05           operator             validator  MissionControl   \n",
       "\n",
       "         address_name       balance  balance_usd balance_type is_native  \\\n",
       "0                None  1.029998e+01     0.001462       staked      True   \n",
       "1                None  0.000000e+00     0.000000       staked      True   \n",
       "2                None  3.000000e+01     0.004257       staked      True   \n",
       "3                None  0.000000e+00     0.000000       staked      True   \n",
       "4                None  0.000000e+00     0.000000       staked      True   \n",
       "..                ...           ...          ...          ...       ...   \n",
       "14  delegator_address  1.313944e+06     0.000000       staked      True   \n",
       "15  delegator_address  5.938921e+05     0.000142       staked      True   \n",
       "16  delegator_address  4.777624e+05     0.000179       staked      True   \n",
       "17  delegator_address  9.739337e+05     0.000000       staked      True   \n",
       "18  delegator_address  6.395369e+05     0.000000       staked      True   \n",
       "\n",
       "   currency  \n",
       "0      LUNA  \n",
       "1      LUNA  \n",
       "2      LUNA  \n",
       "3      LUNA  \n",
       "4      LUNA  \n",
       "..      ...  \n",
       "14     LUNA  \n",
       "15     LUNA  \n",
       "16     LUNA  \n",
       "17     LUNA  \n",
       "18     LUNA  \n",
       "\n",
       "[15183 rows x 26 columns]"
      ]
     },
     "execution_count": 185,
     "metadata": {},
     "output_type": "execute_result"
    }
   ],
   "source": [
    "df"
   ]
  },
  {
   "cell_type": "code",
   "execution_count": 186,
   "metadata": {},
   "outputs": [],
   "source": [
    "df.set_index('tx_id').to_json('../data/votes_tx.json')"
   ]
  },
  {
   "cell_type": "code",
   "execution_count": 187,
   "metadata": {},
   "outputs": [
    {
     "data": {
      "text/plain": [
       "array(['VOTE_OPTION_YES', 'VOTE_OPTION_NO_WITH_VETO', 'VOTE_OPTION_NO',\n",
       "       'VOTE_OPTION_ABSTAIN'], dtype=object)"
      ]
     },
     "execution_count": 187,
     "metadata": {},
     "output_type": "execute_result"
    }
   ],
   "source": [
    "df.option.unique()"
   ]
  },
  {
   "cell_type": "code",
   "execution_count": 188,
   "metadata": {},
   "outputs": [],
   "source": [
    "df['hours_since_start'] = (df.block_timestamp - df.block_timestamp.min()).apply(lambda x: x.total_seconds() / 3600)"
   ]
  },
  {
   "cell_type": "code",
   "execution_count": 189,
   "metadata": {},
   "outputs": [],
   "source": [
    "df.option = df.option.map({'VOTE_OPTION_NO_WITH_VETO':'No with veto',\n",
    "               'VOTE_OPTION_YES':'Yes',\n",
    "               'VOTE_OPTION_NO':'No',\n",
    "               'VOTE_OPTION_ABSTAIN':'Abstain'})"
   ]
  },
  {
   "cell_type": "code",
   "execution_count": 190,
   "metadata": {},
   "outputs": [],
   "source": [
    "df.to_json('../data/votes.json',orient='records')"
   ]
  },
  {
   "cell_type": "markdown",
   "metadata": {},
   "source": [
    "## Quick and dirty analysis"
   ]
  },
  {
   "cell_type": "code",
   "execution_count": 191,
   "metadata": {},
   "outputs": [],
   "source": [
    "wc = dp.get_date_wallet()\n",
    "wc['date'] = wc['min(date)']\n",
    "wc['age'] = (pd.Timestamp('2022-05-20') - pd.to_datetime(wc.date)).apply(lambda x: x.total_seconds()/3600/24)"
   ]
  },
  {
   "cell_type": "code",
   "execution_count": 192,
   "metadata": {},
   "outputs": [],
   "source": [
    "def typew(date):\n",
    "    if(date<'2021-09-30'):\n",
    "        return 'Pre-Col5'\n",
    "    if((date>='2021-09-30')&(date<='2022-05-07')):\n",
    "        return 'Post-Col5'\n",
    "    if((date>'2021-05-07')):\n",
    "        return 'Post-DePeg'\n",
    "\n",
    "wc['typew'] = wc.date.apply(typew)"
   ]
  },
  {
   "cell_type": "code",
   "execution_count": 193,
   "metadata": {},
   "outputs": [],
   "source": [
    "df.merge(wc[['address','age']], on='address', how='left').to_json('../data/votes.json',orient='records')"
   ]
  },
  {
   "cell_type": "code",
   "execution_count": 194,
   "metadata": {},
   "outputs": [],
   "source": [
    "m = wc.merge(df, on='address')"
   ]
  },
  {
   "cell_type": "code",
   "execution_count": 195,
   "metadata": {},
   "outputs": [
    {
     "data": {
      "text/plain": [
       "<AxesSubplot:title={'center':'Number of Users'}>"
      ]
     },
     "execution_count": 195,
     "metadata": {},
     "output_type": "execute_result"
    },
    {
     "data": {
      "image/png": "[encoded data removed]",
      "text/plain": [
       "<Figure size 432x288 with 1 Axes>"
      ]
     },
     "metadata": {
      "needs_background": "light"
     },
     "output_type": "display_data"
    }
   ],
   "source": [
    "m.typew.value_counts(normalize=True).plot(kind='bar',rot=0, title='Number of Users')"
   ]
  },
  {
   "cell_type": "code",
   "execution_count": 196,
   "metadata": {},
   "outputs": [
    {
     "data": {
      "text/plain": [
       "<AxesSubplot:title={'center':'Voting Power'}, xlabel='typew'>"
      ]
     },
     "execution_count": 196,
     "metadata": {},
     "output_type": "execute_result"
    },
    {
     "data": {
      "image/png": "[encoded data removed]",
      "text/plain": [
       "<Figure size 432x288 with 1 Axes>"
      ]
     },
     "metadata": {
      "needs_background": "light"
     },
     "output_type": "display_data"
    }
   ],
   "source": [
    "dfm = (m.groupby('typew').balance.sum())/1000000\n",
    "(dfm/dfm.sum()*100).plot(kind='bar', rot=0, title='Voting Power')"
   ]
  },
  {
   "cell_type": "code",
   "execution_count": 197,
   "metadata": {},
   "outputs": [
    {
     "data": {
      "text/plain": [
       "<AxesSubplot:title={'center':'Pre-Col5'}>"
      ]
     },
     "execution_count": 197,
     "metadata": {},
     "output_type": "execute_result"
    },
    {
     "data": {
      "image/png": "[encoded data removed]",
      "text/plain": [
       "<Figure size 432x288 with 1 Axes>"
      ]
     },
     "metadata": {
      "needs_background": "light"
     },
     "output_type": "display_data"
    }
   ],
   "source": [
    "t='Pre-Col5'\n",
    "m[m.typew==t].option.value_counts(normalize=True).plot(kind='bar', rot=0, title=t)"
   ]
  },
  {
   "cell_type": "code",
   "execution_count": 198,
   "metadata": {},
   "outputs": [
    {
     "data": {
      "text/plain": [
       "Yes             0.735220\n",
       "No with veto    0.206415\n",
       "No              0.054843\n",
       "Abstain         0.003522\n",
       "Name: option, dtype: float64"
      ]
     },
     "execution_count": 198,
     "metadata": {},
     "output_type": "execute_result"
    }
   ],
   "source": [
    "m[m.typew=='Post-DePeg'].option.value_counts(normalize=True)"
   ]
  },
  {
   "cell_type": "code",
   "execution_count": 199,
   "metadata": {},
   "outputs": [
    {
     "data": {
      "text/plain": [
       "Yes             0.627390\n",
       "No with veto    0.235182\n",
       "No              0.128107\n",
       "Abstain         0.009321\n",
       "Name: option, dtype: float64"
      ]
     },
     "execution_count": 199,
     "metadata": {},
     "output_type": "execute_result"
    }
   ],
   "source": [
    "m[m.typew=='Post-Col5'].option.value_counts(normalize=True)"
   ]
  },
  {
   "cell_type": "code",
   "execution_count": 200,
   "metadata": {},
   "outputs": [
    {
     "data": {
      "text/plain": [
       "Yes             0.733224\n",
       "No with veto    0.162207\n",
       "No              0.088102\n",
       "Abstain         0.016468\n",
       "Name: option, dtype: float64"
      ]
     },
     "execution_count": 200,
     "metadata": {},
     "output_type": "execute_result"
    }
   ],
   "source": [
    "m[m.typew=='Pre-Col5'].option.value_counts(normalize=True)"
   ]
  },
  {
   "cell_type": "code",
   "execution_count": null,
   "metadata": {},
   "outputs": [],
   "source": []
  }
 ],
 "metadata": {
  "kernelspec": {
   "display_name": "Python 3",
   "language": "python",
   "name": "python3"
  },
  "language_info": {
   "codemirror_mode": {
    "name": "ipython",
    "version": 3
   },
   "file_extension": ".py",
   "mimetype": "text/x-python",
   "name": "python",
   "nbconvert_exporter": "python",
   "pygments_lexer": "ipython3",
   "version": "3.8.2"
  }
 },
 "nbformat": 4,
 "nbformat_minor": 4
}
