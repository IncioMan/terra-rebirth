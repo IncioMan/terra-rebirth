{
 "cells": [
  {
   "cell_type": "code",
   "execution_count": 1,
   "metadata": {},
   "outputs": [],
   "source": [
    "import pandas as pd\n",
    "import altair as alt\n",
    "alt.renderers.set_embed_options(theme='dark')\n",
    "pd.set_option('display.max_colwidth', None)"
   ]
  },
  {
   "cell_type": "markdown",
   "metadata": {},
   "source": [
    "# Analysis & Charts"
   ]
  },
  {
   "cell_type": "code",
   "execution_count": 2,
   "metadata": {},
   "outputs": [],
   "source": [
    "def claim(claim_hash):\n",
    "    try:\n",
    "        df_claim = pd.read_json(\n",
    "            f'https://node-api.flipsidecrypto.com/api/v2/queries/{claim_hash}/data/latest',\n",
    "            convert_dates=[\"BLOCK_TIMESTAMP\"],\n",
    "        )\n",
    "    except Exception as e:\n",
    "        print(e)\n",
    "        return \n",
    "    return df_claim"
   ]
  },
  {
   "cell_type": "code",
   "execution_count": 96,
   "metadata": {},
   "outputs": [],
   "source": [
    "class DataProvider:    \n",
    "    \n",
    "    def __init__(self):\n",
    "        self.vote = 'a3efd3f0-724b-4a26-9f92-6083c7c52785'\n",
    "        self.date_wallet = '074c2ad1-a842-442d-a0f5-6456b35be648'\n",
    "        self.validators_voting_power = 'fe7c80cd-d061-4c66-8230-68f7776bafbb'\n",
    "        self.validators = 'db245c79-577e-4aa0-876e-49e57556afaa'\n",
    "    \n",
    "    def get_vote(self):\n",
    "        df = claim(self.vote)\n",
    "        df.columns = [c.lower() for c in df.columns]\n",
    "        return df\n",
    "    \n",
    "    def get_date_wallet(self):\n",
    "        df = claim(self.date_wallet)\n",
    "        df.columns = [c.lower() for c in df.columns]\n",
    "        return df\n",
    "    \n",
    "    def get_validators(self):\n",
    "        df = claim(self.validators)\n",
    "        df.columns = [c.lower() for c in df.columns]\n",
    "        return df\n",
    "    \n",
    "    def get_validators_voting_powers(self):\n",
    "        df = claim(self.validators_voting_power)\n",
    "        df.columns = [c.lower() for c in df.columns]\n",
    "        df['day'] = df.day.apply(lambda x: str(x)[:10])\n",
    "        df = df[df.day=='2022-05-12']\n",
    "        return df\n",
    "    \n",
    "   "
   ]
  },
  {
   "cell_type": "code",
   "execution_count": 97,
   "metadata": {},
   "outputs": [],
   "source": [
    "dp = DataProvider()"
   ]
  },
  {
   "cell_type": "markdown",
   "metadata": {},
   "source": [
    "## Handle Validators"
   ]
  },
  {
   "cell_type": "code",
   "execution_count": 98,
   "metadata": {},
   "outputs": [
    {
     "data": {
      "text/html": [
       "<div>\n",
       "<style scoped>\n",
       "    .dataframe tbody tr th:only-of-type {\n",
       "        vertical-align: middle;\n",
       "    }\n",
       "\n",
       "    .dataframe tbody tr th {\n",
       "        vertical-align: top;\n",
       "    }\n",
       "\n",
       "    .dataframe thead th {\n",
       "        text-align: right;\n",
       "    }\n",
       "</style>\n",
       "<table border=\"1\" class=\"dataframe\">\n",
       "  <thead>\n",
       "    <tr style=\"text-align: right;\">\n",
       "      <th></th>\n",
       "      <th>label</th>\n",
       "      <th>operator_address</th>\n",
       "      <th>delegator_address</th>\n",
       "      <th>vp_address</th>\n",
       "      <th>address</th>\n",
       "    </tr>\n",
       "  </thead>\n",
       "  <tbody>\n",
       "    <tr>\n",
       "      <th>37</th>\n",
       "      <td>Orion.Money</td>\n",
       "      <td>terravaloper1259cmu5zyklsdkmgstxhwqpe0utfe5hhyty0at</td>\n",
       "      <td>terra1259cmu5zyklsdkmgstxhwqpe0utfe5hhyygjdc</td>\n",
       "      <td>terravalcons1ty43n6et4c2hc9ccpmrlvk3yj68lpxreekqgyd</td>\n",
       "      <td>terra1259cmu5zyklsdkmgstxhwqpe0utfe5hhyygjdc</td>\n",
       "    </tr>\n",
       "  </tbody>\n",
       "</table>\n",
       "</div>"
      ],
      "text/plain": [
       "          label                                     operator_address  \\\n",
       "37  Orion.Money  terravaloper1259cmu5zyklsdkmgstxhwqpe0utfe5hhyty0at   \n",
       "\n",
       "                               delegator_address  \\\n",
       "37  terra1259cmu5zyklsdkmgstxhwqpe0utfe5hhyygjdc   \n",
       "\n",
       "                                             vp_address  \\\n",
       "37  terravalcons1ty43n6et4c2hc9ccpmrlvk3yj68lpxreekqgyd   \n",
       "\n",
       "                                         address  \n",
       "37  terra1259cmu5zyklsdkmgstxhwqpe0utfe5hhyygjdc  "
      ]
     },
     "execution_count": 98,
     "metadata": {},
     "output_type": "execute_result"
    }
   ],
   "source": [
    "valid = dp.get_validators()\n",
    "valid['address'] = valid.delegator_address\n",
    "valid[valid.operator_address=='terravaloper1259cmu5zyklsdkmgstxhwqpe0utfe5hhyty0at']"
   ]
  },
  {
   "cell_type": "code",
   "execution_count": 102,
   "metadata": {},
   "outputs": [
    {
     "data": {
      "text/plain": [
       "Index(['day', 'address', 'voting_power', 'date', 'vp_address'], dtype='object')"
      ]
     },
     "execution_count": 102,
     "metadata": {},
     "output_type": "execute_result"
    }
   ],
   "source": [
    "valid_vp = dp.get_validators_voting_powers()\n",
    "valid_vp['date'] = valid_vp['day'].apply(str)\n",
    "valid_vp['vp_address'] = valid_vp.address\n",
    "valid_vp.columns"
   ]
  },
  {
   "cell_type": "code",
   "execution_count": 103,
   "metadata": {},
   "outputs": [
    {
     "data": {
      "text/plain": [
       "Index(['date', 'address', 'blockchain', 'chain_id', 'tx_status', 'block_id',\n",
       "       'block_timestamp', 'tx_id', 'msg_type', 'voter', 'voter_label_type',\n",
       "       'voter_label_subtype', 'voter_address_label', 'voter_address_name',\n",
       "       'proposal_id', 'option', 'voting_power', 'address_label_type',\n",
       "       'address_label_subtype', 'address_label', 'address_name', 'balance',\n",
       "       'balance_usd', 'balance_type', 'is_native', 'currency'],\n",
       "      dtype='object')"
      ]
     },
     "execution_count": 103,
     "metadata": {},
     "output_type": "execute_result"
    }
   ],
   "source": [
    "votes = dp.get_vote()\n",
    "votes['date'] = votes['date'].apply(lambda x: str(x)[:10])\n",
    "votes.columns"
   ]
  },
  {
   "cell_type": "code",
   "execution_count": 113,
   "metadata": {},
   "outputs": [
    {
     "data": {
      "text/html": [
       "<div>\n",
       "<style scoped>\n",
       "    .dataframe tbody tr th:only-of-type {\n",
       "        vertical-align: middle;\n",
       "    }\n",
       "\n",
       "    .dataframe tbody tr th {\n",
       "        vertical-align: top;\n",
       "    }\n",
       "\n",
       "    .dataframe thead th {\n",
       "        text-align: right;\n",
       "    }\n",
       "</style>\n",
       "<table border=\"1\" class=\"dataframe\">\n",
       "  <thead>\n",
       "    <tr style=\"text-align: right;\">\n",
       "      <th></th>\n",
       "      <th>label</th>\n",
       "      <th>operator_address</th>\n",
       "      <th>delegator_address</th>\n",
       "      <th>vp_address</th>\n",
       "      <th>address</th>\n",
       "      <th>date</th>\n",
       "      <th>blockchain</th>\n",
       "      <th>chain_id</th>\n",
       "      <th>tx_status</th>\n",
       "      <th>block_id</th>\n",
       "      <th>...</th>\n",
       "      <th>address_label_subtype</th>\n",
       "      <th>address_label</th>\n",
       "      <th>address_name</th>\n",
       "      <th>balance</th>\n",
       "      <th>balance_usd</th>\n",
       "      <th>balance_type</th>\n",
       "      <th>is_native</th>\n",
       "      <th>currency</th>\n",
       "      <th>day</th>\n",
       "      <th>voting_power</th>\n",
       "    </tr>\n",
       "  </thead>\n",
       "  <tbody>\n",
       "    <tr>\n",
       "      <th>2</th>\n",
       "      <td>Orion.Money</td>\n",
       "      <td>terravaloper1259cmu5zyklsdkmgstxhwqpe0utfe5hhyty0at</td>\n",
       "      <td>terra1259cmu5zyklsdkmgstxhwqpe0utfe5hhyygjdc</td>\n",
       "      <td>terravalcons1ty43n6et4c2hc9ccpmrlvk3yj68lpxreekqgyd</td>\n",
       "      <td>terra1259cmu5zyklsdkmgstxhwqpe0utfe5hhyygjdc</td>\n",
       "      <td>2022-05-20</td>\n",
       "      <td>terra</td>\n",
       "      <td>columbus-5</td>\n",
       "      <td>SUCCEEDED</td>\n",
       "      <td>7710376</td>\n",
       "      <td>...</td>\n",
       "      <td>validator</td>\n",
       "      <td>Orion.Money</td>\n",
       "      <td>delegator_address</td>\n",
       "      <td>1.680850e+07</td>\n",
       "      <td>0.0</td>\n",
       "      <td>staked</td>\n",
       "      <td>True</td>\n",
       "      <td>LUNA</td>\n",
       "      <td>2022-05-12</td>\n",
       "      <td>1.680850e+07</td>\n",
       "    </tr>\n",
       "  </tbody>\n",
       "</table>\n",
       "<p>1 rows × 31 columns</p>\n",
       "</div>"
      ],
      "text/plain": [
       "         label                                     operator_address  \\\n",
       "2  Orion.Money  terravaloper1259cmu5zyklsdkmgstxhwqpe0utfe5hhyty0at   \n",
       "\n",
       "                              delegator_address  \\\n",
       "2  terra1259cmu5zyklsdkmgstxhwqpe0utfe5hhyygjdc   \n",
       "\n",
       "                                            vp_address  \\\n",
       "2  terravalcons1ty43n6et4c2hc9ccpmrlvk3yj68lpxreekqgyd   \n",
       "\n",
       "                                        address        date blockchain  \\\n",
       "2  terra1259cmu5zyklsdkmgstxhwqpe0utfe5hhyygjdc  2022-05-20      terra   \n",
       "\n",
       "     chain_id  tx_status  block_id  ... address_label_subtype address_label  \\\n",
       "2  columbus-5  SUCCEEDED   7710376  ...             validator   Orion.Money   \n",
       "\n",
       "        address_name       balance balance_usd balance_type is_native  \\\n",
       "2  delegator_address  1.680850e+07         0.0       staked      True   \n",
       "\n",
       "  currency         day  voting_power  \n",
       "2     LUNA  2022-05-12  1.680850e+07  \n",
       "\n",
       "[1 rows x 31 columns]"
      ]
     },
     "execution_count": 113,
     "metadata": {},
     "output_type": "execute_result"
    }
   ],
   "source": [
    "valid_final = valid.merge(votes.drop(columns=['voting_power']),on='address')\\\n",
    "                   .merge(valid_vp.drop(columns=['address','date']), on=['vp_address'])\n",
    "valid_final['balance'] = valid_final.voting_power\n",
    "valid_final[valid_final.address=='terra1259cmu5zyklsdkmgstxhwqpe0utfe5hhyygjdc']"
   ]
  },
  {
   "cell_type": "markdown",
   "metadata": {},
   "source": [
    "## ----------------"
   ]
  },
  {
   "cell_type": "code",
   "execution_count": 114,
   "metadata": {},
   "outputs": [
    {
     "data": {
      "text/html": [
       "<div>\n",
       "<style scoped>\n",
       "    .dataframe tbody tr th:only-of-type {\n",
       "        vertical-align: middle;\n",
       "    }\n",
       "\n",
       "    .dataframe tbody tr th {\n",
       "        vertical-align: top;\n",
       "    }\n",
       "\n",
       "    .dataframe thead th {\n",
       "        text-align: right;\n",
       "    }\n",
       "</style>\n",
       "<table border=\"1\" class=\"dataframe\">\n",
       "  <thead>\n",
       "    <tr style=\"text-align: right;\">\n",
       "      <th></th>\n",
       "      <th>date</th>\n",
       "      <th>address</th>\n",
       "      <th>blockchain</th>\n",
       "      <th>chain_id</th>\n",
       "      <th>tx_status</th>\n",
       "      <th>block_id</th>\n",
       "      <th>block_timestamp</th>\n",
       "      <th>tx_id</th>\n",
       "      <th>msg_type</th>\n",
       "      <th>voter</th>\n",
       "      <th>...</th>\n",
       "      <th>voting_power</th>\n",
       "      <th>address_label_type</th>\n",
       "      <th>address_label_subtype</th>\n",
       "      <th>address_label</th>\n",
       "      <th>address_name</th>\n",
       "      <th>balance</th>\n",
       "      <th>balance_usd</th>\n",
       "      <th>balance_type</th>\n",
       "      <th>is_native</th>\n",
       "      <th>currency</th>\n",
       "    </tr>\n",
       "  </thead>\n",
       "  <tbody>\n",
       "    <tr>\n",
       "      <th>9266</th>\n",
       "      <td>2022-05-20</td>\n",
       "      <td>terra1259cmu5zyklsdkmgstxhwqpe0utfe5hhyygjdc</td>\n",
       "      <td>terra</td>\n",
       "      <td>columbus-5</td>\n",
       "      <td>SUCCEEDED</td>\n",
       "      <td>7710376</td>\n",
       "      <td>2022-05-20 22:59:05.095</td>\n",
       "      <td>4787E4BF3B47BF48F161BF1DFAA9747850D8196903667DC7B2B92F1EDF75BCC7</td>\n",
       "      <td>gov/MsgVote</td>\n",
       "      <td>terra1259cmu5zyklsdkmgstxhwqpe0utfe5hhyygjdc</td>\n",
       "      <td>...</td>\n",
       "      <td>NaN</td>\n",
       "      <td>operator</td>\n",
       "      <td>validator</td>\n",
       "      <td>Orion.Money</td>\n",
       "      <td>delegator_address</td>\n",
       "      <td>0.0</td>\n",
       "      <td>0.0</td>\n",
       "      <td>staked</td>\n",
       "      <td>True</td>\n",
       "      <td>LUNA</td>\n",
       "    </tr>\n",
       "  </tbody>\n",
       "</table>\n",
       "<p>1 rows × 26 columns</p>\n",
       "</div>"
      ],
      "text/plain": [
       "           date                                       address blockchain  \\\n",
       "9266 2022-05-20  terra1259cmu5zyklsdkmgstxhwqpe0utfe5hhyygjdc      terra   \n",
       "\n",
       "        chain_id  tx_status  block_id         block_timestamp  \\\n",
       "9266  columbus-5  SUCCEEDED   7710376 2022-05-20 22:59:05.095   \n",
       "\n",
       "                                                                 tx_id  \\\n",
       "9266  4787E4BF3B47BF48F161BF1DFAA9747850D8196903667DC7B2B92F1EDF75BCC7   \n",
       "\n",
       "         msg_type                                         voter  ...  \\\n",
       "9266  gov/MsgVote  terra1259cmu5zyklsdkmgstxhwqpe0utfe5hhyygjdc  ...   \n",
       "\n",
       "     voting_power address_label_type address_label_subtype address_label  \\\n",
       "9266          NaN           operator             validator   Orion.Money   \n",
       "\n",
       "           address_name balance  balance_usd balance_type is_native currency  \n",
       "9266  delegator_address     0.0          0.0       staked      True     LUNA  \n",
       "\n",
       "[1 rows x 26 columns]"
      ]
     },
     "execution_count": 114,
     "metadata": {},
     "output_type": "execute_result"
    }
   ],
   "source": [
    "df = dp.get_vote()\n",
    "df[df.address=='terra1259cmu5zyklsdkmgstxhwqpe0utfe5hhyygjdc']"
   ]
  },
  {
   "cell_type": "markdown",
   "metadata": {},
   "source": [
    "**Merge validators and normal users**"
   ]
  },
  {
   "cell_type": "code",
   "execution_count": 116,
   "metadata": {},
   "outputs": [],
   "source": [
    "df = df[~df.address.isin(valid_final.address.values)].append(valid_final[df.columns])"
   ]
  },
  {
   "cell_type": "code",
   "execution_count": 117,
   "metadata": {},
   "outputs": [],
   "source": [
    "df.set_index('tx_id').to_json('../data/votes_tx.json')"
   ]
  },
  {
   "cell_type": "code",
   "execution_count": 118,
   "metadata": {},
   "outputs": [
    {
     "data": {
      "text/plain": [
       "array(['VOTE_OPTION_YES', 'VOTE_OPTION_NO_WITH_VETO', 'VOTE_OPTION_NO',\n",
       "       'VOTE_OPTION_ABSTAIN'], dtype=object)"
      ]
     },
     "execution_count": 118,
     "metadata": {},
     "output_type": "execute_result"
    }
   ],
   "source": [
    "df.option.unique()"
   ]
  },
  {
   "cell_type": "code",
   "execution_count": 119,
   "metadata": {},
   "outputs": [],
   "source": [
    "df['hours_since_start'] = (df.block_timestamp - df.block_timestamp.min()).apply(lambda x: x.total_seconds() / 3600)"
   ]
  },
  {
   "cell_type": "code",
   "execution_count": 120,
   "metadata": {},
   "outputs": [],
   "source": [
    "df.option = df.option.map({'VOTE_OPTION_NO_WITH_VETO':'No with veto',\n",
    "               'VOTE_OPTION_YES':'Yes',\n",
    "               'VOTE_OPTION_NO':'No',\n",
    "               'VOTE_OPTION_ABSTAIN':'Abstain'})"
   ]
  },
  {
   "cell_type": "code",
   "execution_count": 121,
   "metadata": {},
   "outputs": [],
   "source": [
    "df.to_json('../data/votes.json',orient='records')"
   ]
  },
  {
   "cell_type": "markdown",
   "metadata": {},
   "source": [
    "## Quick and dirty analysis"
   ]
  },
  {
   "cell_type": "code",
   "execution_count": 122,
   "metadata": {},
   "outputs": [],
   "source": [
    "wc = dp.get_date_wallet()\n",
    "wc['date'] = wc['min(date)']\n",
    "wc['age'] = (pd.Timestamp('2022-05-20') - pd.to_datetime(wc.date)).apply(lambda x: x.total_seconds()/3600/24)"
   ]
  },
  {
   "cell_type": "code",
   "execution_count": 123,
   "metadata": {},
   "outputs": [],
   "source": [
    "def typew(date):\n",
    "    if(date<'2021-09-30'):\n",
    "        return 'Pre-Col5'\n",
    "    if((date>='2021-09-30')&(date<='2022-05-07')):\n",
    "        return 'Post-Col5'\n",
    "    if((date>'2021-05-07')):\n",
    "        return 'Post-DePeg'\n",
    "\n",
    "wc['typew'] = wc.date.apply(typew)"
   ]
  },
  {
   "cell_type": "code",
   "execution_count": 124,
   "metadata": {},
   "outputs": [],
   "source": [
    "df.merge(wc[['address','age']], on='address', how='left').to_json('../data/votes.json',orient='records')"
   ]
  },
  {
   "cell_type": "code",
   "execution_count": 125,
   "metadata": {},
   "outputs": [],
   "source": [
    "m = wc.merge(df, on='address')"
   ]
  },
  {
   "cell_type": "code",
   "execution_count": 126,
   "metadata": {},
   "outputs": [
    {
     "data": {
      "text/plain": [
       "<AxesSubplot:title={'center':'Number of Users'}>"
      ]
     },
     "execution_count": 126,
     "metadata": {},
     "output_type": "execute_result"
    },
    {
     "data": {
      "image/png": "[encoded data removed]",
      "text/plain": [
       "<Figure size 432x288 with 1 Axes>"
      ]
     },
     "metadata": {
      "needs_background": "light"
     },
     "output_type": "display_data"
    }
   ],
   "source": [
    "m.typew.value_counts(normalize=True).plot(kind='bar',rot=0, title='Number of Users')"
   ]
  },
  {
   "cell_type": "code",
   "execution_count": 127,
   "metadata": {},
   "outputs": [
    {
     "data": {
      "text/plain": [
       "<AxesSubplot:title={'center':'Voting Power'}, xlabel='typew'>"
      ]
     },
     "execution_count": 127,
     "metadata": {},
     "output_type": "execute_result"
    },
    {
     "data": {
      "image/png": "[encoded data removed]",
      "text/plain": [
       "<Figure size 432x288 with 1 Axes>"
      ]
     },
     "metadata": {
      "needs_background": "light"
     },
     "output_type": "display_data"
    }
   ],
   "source": [
    "dfm = (m.groupby('typew').balance.sum())/1000000\n",
    "(dfm/dfm.sum()*100).plot(kind='bar', rot=0, title='Voting Power')"
   ]
  },
  {
   "cell_type": "code",
   "execution_count": 128,
   "metadata": {},
   "outputs": [
    {
     "data": {
      "text/plain": [
       "<AxesSubplot:title={'center':'Pre-Col5'}>"
      ]
     },
     "execution_count": 128,
     "metadata": {},
     "output_type": "execute_result"
    },
    {
     "data": {
      "image/png": "[encoded data removed]",
      "text/plain": [
       "<Figure size 432x288 with 1 Axes>"
      ]
     },
     "metadata": {
      "needs_background": "light"
     },
     "output_type": "display_data"
    }
   ],
   "source": [
    "t='Pre-Col5'\n",
    "m[m.typew==t].option.value_counts(normalize=True).plot(kind='bar', rot=0, title=t)"
   ]
  },
  {
   "cell_type": "code",
   "execution_count": 129,
   "metadata": {},
   "outputs": [
    {
     "data": {
      "text/plain": [
       "Yes             0.735220\n",
       "No with veto    0.206415\n",
       "No              0.054843\n",
       "Abstain         0.003522\n",
       "Name: option, dtype: float64"
      ]
     },
     "execution_count": 129,
     "metadata": {},
     "output_type": "execute_result"
    }
   ],
   "source": [
    "m[m.typew=='Post-DePeg'].option.value_counts(normalize=True)"
   ]
  },
  {
   "cell_type": "code",
   "execution_count": 130,
   "metadata": {},
   "outputs": [
    {
     "data": {
      "text/plain": [
       "Yes             0.627390\n",
       "No with veto    0.235182\n",
       "No              0.128107\n",
       "Abstain         0.009321\n",
       "Name: option, dtype: float64"
      ]
     },
     "execution_count": 130,
     "metadata": {},
     "output_type": "execute_result"
    }
   ],
   "source": [
    "m[m.typew=='Post-Col5'].option.value_counts(normalize=True)"
   ]
  },
  {
   "cell_type": "code",
   "execution_count": 131,
   "metadata": {},
   "outputs": [
    {
     "data": {
      "text/plain": [
       "Yes             0.733224\n",
       "No with veto    0.162207\n",
       "No              0.088102\n",
       "Abstain         0.016468\n",
       "Name: option, dtype: float64"
      ]
     },
     "execution_count": 131,
     "metadata": {},
     "output_type": "execute_result"
    }
   ],
   "source": [
    "m[m.typew=='Pre-Col5'].option.value_counts(normalize=True)"
   ]
  },
  {
   "cell_type": "code",
   "execution_count": null,
   "metadata": {},
   "outputs": [],
   "source": []
  }
 ],
 "metadata": {
  "kernelspec": {
   "display_name": "Python 3",
   "language": "python",
   "name": "python3"
  },
  "language_info": {
   "codemirror_mode": {
    "name": "ipython",
    "version": 3
   },
   "file_extension": ".py",
   "mimetype": "text/x-python",
   "name": "python",
   "nbconvert_exporter": "python",
   "pygments_lexer": "ipython3",
   "version": "3.8.2"
  }
 },
 "nbformat": 4,
 "nbformat_minor": 4
}
