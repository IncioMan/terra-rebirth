{
 "cells": [
  {
   "cell_type": "code",
   "execution_count": 1,
   "metadata": {},
   "outputs": [],
   "source": [
    "import pandas as pd\n",
    "import altair as alt\n",
    "alt.renderers.set_embed_options(theme='dark')\n",
    "pd.set_option('display.max_colwidth', None)"
   ]
  },
  {
   "cell_type": "markdown",
   "metadata": {},
   "source": [
    "# Analysis & Charts"
   ]
  },
  {
   "cell_type": "code",
   "execution_count": 2,
   "metadata": {},
   "outputs": [],
   "source": [
    "def claim(claim_hash):\n",
    "    try:\n",
    "        df_claim = pd.read_json(\n",
    "            f'https://node-api.flipsidecrypto.com/api/v2/queries/{claim_hash}/data/latest',\n",
    "            convert_dates=[\"BLOCK_TIMESTAMP\"],\n",
    "        )\n",
    "    except Exception as e:\n",
    "        print(e)\n",
    "        return \n",
    "    return df_claim"
   ]
  },
  {
   "cell_type": "code",
   "execution_count": 3,
   "metadata": {},
   "outputs": [],
   "source": [
    "class DataProvider:    \n",
    "    \n",
    "    def __init__(self):\n",
    "        self.vote = 'a3efd3f0-724b-4a26-9f92-6083c7c52785'\n",
    "        self.date_wallet = '074c2ad1-a842-442d-a0f5-6456b35be648'\n",
    "    \n",
    "    def get_vote(self):\n",
    "        df = claim(self.vote)\n",
    "        df.columns = [c.lower() for c in df.columns]\n",
    "        return df\n",
    "    \n",
    "    def get_date_wallet(self):\n",
    "        df = claim(self.date_wallet)\n",
    "        df.columns = [c.lower() for c in df.columns]\n",
    "        return df\n",
    "    \n",
    "   "
   ]
  },
  {
   "cell_type": "code",
   "execution_count": 4,
   "metadata": {},
   "outputs": [],
   "source": [
    "dp = DataProvider()"
   ]
  },
  {
   "cell_type": "code",
   "execution_count": 5,
   "metadata": {},
   "outputs": [
    {
     "data": {
      "text/html": [
       "<div>\n",
       "<style scoped>\n",
       "    .dataframe tbody tr th:only-of-type {\n",
       "        vertical-align: middle;\n",
       "    }\n",
       "\n",
       "    .dataframe tbody tr th {\n",
       "        vertical-align: top;\n",
       "    }\n",
       "\n",
       "    .dataframe thead th {\n",
       "        text-align: right;\n",
       "    }\n",
       "</style>\n",
       "<table border=\"1\" class=\"dataframe\">\n",
       "  <thead>\n",
       "    <tr style=\"text-align: right;\">\n",
       "      <th></th>\n",
       "      <th>date</th>\n",
       "      <th>address</th>\n",
       "      <th>block_timestamp</th>\n",
       "      <th>tx_id</th>\n",
       "      <th>proposal_id</th>\n",
       "      <th>option</th>\n",
       "      <th>voting_power</th>\n",
       "      <th>balance</th>\n",
       "      <th>currency</th>\n",
       "    </tr>\n",
       "  </thead>\n",
       "  <tbody>\n",
       "    <tr>\n",
       "      <th>0</th>\n",
       "      <td>2022-05-20</td>\n",
       "      <td>terra106cf72933qmfvreay2nmj97rxclnj9w5e24pml</td>\n",
       "      <td>2022-05-20 17:48:46.532</td>\n",
       "      <td>1AB224780DB99795F2623BF2343425E7D6AA5F1D11C3316413610A926E001EC4</td>\n",
       "      <td>1623</td>\n",
       "      <td>VOTE_OPTION_YES</td>\n",
       "      <td>NaN</td>\n",
       "      <td>0.000000</td>\n",
       "      <td>LUNA</td>\n",
       "    </tr>\n",
       "    <tr>\n",
       "      <th>1</th>\n",
       "      <td>2022-05-18</td>\n",
       "      <td>terra1nr0x05rtyj6hacdkrj3elp5llfxs38ah9zvdpq</td>\n",
       "      <td>2022-05-18 12:11:38.947</td>\n",
       "      <td>283B565A695AD9F3A5EE0E2E3EE2FE52E5C9C66367726956A558C7D681570259</td>\n",
       "      <td>1623</td>\n",
       "      <td>VOTE_OPTION_YES</td>\n",
       "      <td>NaN</td>\n",
       "      <td>0.000000</td>\n",
       "      <td>LUNA</td>\n",
       "    </tr>\n",
       "    <tr>\n",
       "      <th>2</th>\n",
       "      <td>2022-05-18</td>\n",
       "      <td>terra1n3yxatqcwvquk03yh8799gzm6697nqdsz4fhwf</td>\n",
       "      <td>2022-05-18 13:28:05.617</td>\n",
       "      <td>BEDA9BB487571AFC14ECF79AC97ED8259498097BD7D6DAADBEBE75F9B4ED4345</td>\n",
       "      <td>1623</td>\n",
       "      <td>VOTE_OPTION_YES</td>\n",
       "      <td>NaN</td>\n",
       "      <td>697.832005</td>\n",
       "      <td>LUNA</td>\n",
       "    </tr>\n",
       "    <tr>\n",
       "      <th>3</th>\n",
       "      <td>2022-05-18</td>\n",
       "      <td>terra1v5dqd8fdck68tlqveulqwctdctrcl59ydyrem2</td>\n",
       "      <td>2022-05-18 12:07:26.033</td>\n",
       "      <td>4E113C13178ED75896C5E759796E2F29CE71F40DEDB41005FF1654CA701A1FF2</td>\n",
       "      <td>1623</td>\n",
       "      <td>VOTE_OPTION_YES</td>\n",
       "      <td>NaN</td>\n",
       "      <td>0.000000</td>\n",
       "      <td>LUNA</td>\n",
       "    </tr>\n",
       "    <tr>\n",
       "      <th>4</th>\n",
       "      <td>2022-05-18</td>\n",
       "      <td>terra1npkl36stde4lu65e39m0377ycvra3a7g709d05</td>\n",
       "      <td>2022-05-18 20:03:27.426</td>\n",
       "      <td>BAD4C0B4A937003B8323FCFE608C97086103C84A2B736866175C77065217FDAD</td>\n",
       "      <td>1623</td>\n",
       "      <td>VOTE_OPTION_YES</td>\n",
       "      <td>NaN</td>\n",
       "      <td>0.000000</td>\n",
       "      <td>LUNA</td>\n",
       "    </tr>\n",
       "  </tbody>\n",
       "</table>\n",
       "</div>"
      ],
      "text/plain": [
       "        date                                       address  \\\n",
       "0 2022-05-20  terra106cf72933qmfvreay2nmj97rxclnj9w5e24pml   \n",
       "1 2022-05-18  terra1nr0x05rtyj6hacdkrj3elp5llfxs38ah9zvdpq   \n",
       "2 2022-05-18  terra1n3yxatqcwvquk03yh8799gzm6697nqdsz4fhwf   \n",
       "3 2022-05-18  terra1v5dqd8fdck68tlqveulqwctdctrcl59ydyrem2   \n",
       "4 2022-05-18  terra1npkl36stde4lu65e39m0377ycvra3a7g709d05   \n",
       "\n",
       "          block_timestamp  \\\n",
       "0 2022-05-20 17:48:46.532   \n",
       "1 2022-05-18 12:11:38.947   \n",
       "2 2022-05-18 13:28:05.617   \n",
       "3 2022-05-18 12:07:26.033   \n",
       "4 2022-05-18 20:03:27.426   \n",
       "\n",
       "                                                              tx_id  \\\n",
       "0  1AB224780DB99795F2623BF2343425E7D6AA5F1D11C3316413610A926E001EC4   \n",
       "1  283B565A695AD9F3A5EE0E2E3EE2FE52E5C9C66367726956A558C7D681570259   \n",
       "2  BEDA9BB487571AFC14ECF79AC97ED8259498097BD7D6DAADBEBE75F9B4ED4345   \n",
       "3  4E113C13178ED75896C5E759796E2F29CE71F40DEDB41005FF1654CA701A1FF2   \n",
       "4  BAD4C0B4A937003B8323FCFE608C97086103C84A2B736866175C77065217FDAD   \n",
       "\n",
       "   proposal_id           option  voting_power     balance currency  \n",
       "0         1623  VOTE_OPTION_YES           NaN    0.000000     LUNA  \n",
       "1         1623  VOTE_OPTION_YES           NaN    0.000000     LUNA  \n",
       "2         1623  VOTE_OPTION_YES           NaN  697.832005     LUNA  \n",
       "3         1623  VOTE_OPTION_YES           NaN    0.000000     LUNA  \n",
       "4         1623  VOTE_OPTION_YES           NaN    0.000000     LUNA  "
      ]
     },
     "execution_count": 5,
     "metadata": {},
     "output_type": "execute_result"
    }
   ],
   "source": [
    "df = dp.get_vote()[['date', 'address', \n",
    "       'block_timestamp', 'tx_id',\n",
    "       'proposal_id', 'option', 'voting_power',  'balance','currency']]\n",
    "df.head()"
   ]
  },
  {
   "cell_type": "code",
   "execution_count": 6,
   "metadata": {},
   "outputs": [],
   "source": [
    "df.set_index('tx_id').to_json('../data/votes_tx.json')"
   ]
  },
  {
   "cell_type": "code",
   "execution_count": 7,
   "metadata": {},
   "outputs": [
    {
     "data": {
      "text/plain": [
       "array(['VOTE_OPTION_YES', 'VOTE_OPTION_NO', 'VOTE_OPTION_NO_WITH_VETO',\n",
       "       'VOTE_OPTION_ABSTAIN'], dtype=object)"
      ]
     },
     "execution_count": 7,
     "metadata": {},
     "output_type": "execute_result"
    }
   ],
   "source": [
    "df.option.unique()"
   ]
  },
  {
   "cell_type": "code",
   "execution_count": 8,
   "metadata": {},
   "outputs": [],
   "source": [
    "df['hours_since_start'] = (df.block_timestamp - df.block_timestamp.min()).apply(lambda x: x.total_seconds() / 3600)"
   ]
  },
  {
   "cell_type": "code",
   "execution_count": 9,
   "metadata": {},
   "outputs": [],
   "source": [
    "df.option = df.option.map({'VOTE_OPTION_NO_WITH_VETO':'No with veto',\n",
    "               'VOTE_OPTION_YES':'Yes',\n",
    "               'VOTE_OPTION_NO':'No',\n",
    "               'VOTE_OPTION_ABSTAIN':'Abstain'})"
   ]
  },
  {
   "cell_type": "code",
   "execution_count": 10,
   "metadata": {},
   "outputs": [],
   "source": [
    "df.to_json('../data/votes.json',orient='records')"
   ]
  },
  {
   "cell_type": "code",
   "execution_count": 11,
   "metadata": {},
   "outputs": [],
   "source": [
    "wc = dp.get_date_wallet()\n",
    "wc['date'] = wc['min(date)']\n",
    "wc['age'] = (pd.Timestamp('2022-05-20') - pd.to_datetime(wc.date)).apply(lambda x: x.total_seconds()/3600/24)"
   ]
  },
  {
   "cell_type": "code",
   "execution_count": 12,
   "metadata": {},
   "outputs": [],
   "source": [
    "def typew(date):\n",
    "    if(date<'2021-09-30'):\n",
    "        return 'Pre-Col5'\n",
    "    if((date>='2021-09-30')&(date<='2022-05-07')):\n",
    "        return 'Post-Col5'\n",
    "    if((date>'2021-05-07')):\n",
    "        return 'Post-DePeg'\n",
    "\n",
    "wc['typew'] = wc.date.apply(typew)"
   ]
  },
  {
   "cell_type": "code",
   "execution_count": 13,
   "metadata": {},
   "outputs": [],
   "source": [
    "df.merge(wc[['address','age']], on='address', how='left').to_json('../data/votes.json',orient='records')"
   ]
  },
  {
   "cell_type": "code",
   "execution_count": 14,
   "metadata": {},
   "outputs": [],
   "source": [
    "m = wc.merge(df, on='address')"
   ]
  },
  {
   "cell_type": "code",
   "execution_count": 15,
   "metadata": {},
   "outputs": [
    {
     "data": {
      "text/plain": [
       "<AxesSubplot:title={'center':'Number of Users'}>"
      ]
     },
     "execution_count": 15,
     "metadata": {},
     "output_type": "execute_result"
    },
    {
     "data": {
      "image/png": "[encoded data removed]",
      "text/plain": [
       "<Figure size 432x288 with 1 Axes>"
      ]
     },
     "metadata": {
      "needs_background": "light"
     },
     "output_type": "display_data"
    }
   ],
   "source": [
    "m.typew.value_counts(normalize=True).plot(kind='bar',rot=0, title='Number of Users')"
   ]
  },
  {
   "cell_type": "code",
   "execution_count": 16,
   "metadata": {},
   "outputs": [
    {
     "data": {
      "text/plain": [
       "<AxesSubplot:title={'center':'Voting Power'}, xlabel='typew'>"
      ]
     },
     "execution_count": 16,
     "metadata": {},
     "output_type": "execute_result"
    },
    {
     "data": {
      "image/png": "[encoded data removed]",
      "text/plain": [
       "<Figure size 432x288 with 1 Axes>"
      ]
     },
     "metadata": {
      "needs_background": "light"
     },
     "output_type": "display_data"
    }
   ],
   "source": [
    "dfm = (m.groupby('typew').balance.sum())/1000000\n",
    "(dfm/dfm.sum()*100).plot(kind='bar', rot=0, title='Voting Power')"
   ]
  },
  {
   "cell_type": "code",
   "execution_count": 18,
   "metadata": {},
   "outputs": [
    {
     "data": {
      "text/plain": [
       "<AxesSubplot:title={'center':'Pre-Col5'}>"
      ]
     },
     "execution_count": 18,
     "metadata": {},
     "output_type": "execute_result"
    },
    {
     "data": {
      "image/png": "[encoded data removed]",
      "text/plain": [
       "<Figure size 432x288 with 1 Axes>"
      ]
     },
     "metadata": {
      "needs_background": "light"
     },
     "output_type": "display_data"
    }
   ],
   "source": [
    "t='Pre-Col5'\n",
    "m[m.typew==t].option.value_counts(normalize=True).plot(kind='bar', rot=0, title=t)"
   ]
  },
  {
   "cell_type": "code",
   "execution_count": 19,
   "metadata": {},
   "outputs": [
    {
     "data": {
      "text/plain": [
       "Yes             0.739714\n",
       "No with veto    0.201544\n",
       "No              0.055197\n",
       "Abstain         0.003545\n",
       "Name: option, dtype: float64"
      ]
     },
     "execution_count": 19,
     "metadata": {},
     "output_type": "execute_result"
    }
   ],
   "source": [
    "m[m.typew=='Post-DePeg'].option.value_counts(normalize=True)"
   ]
  },
  {
   "cell_type": "code",
   "execution_count": 20,
   "metadata": {},
   "outputs": [
    {
     "data": {
      "text/plain": [
       "Yes             0.627249\n",
       "No with veto    0.234828\n",
       "No              0.128568\n",
       "Abstain         0.009355\n",
       "Name: option, dtype: float64"
      ]
     },
     "execution_count": 20,
     "metadata": {},
     "output_type": "execute_result"
    }
   ],
   "source": [
    "m[m.typew=='Post-Col5'].option.value_counts(normalize=True)"
   ]
  },
  {
   "cell_type": "code",
   "execution_count": 21,
   "metadata": {},
   "outputs": [
    {
     "data": {
      "text/plain": [
       "Yes             0.732616\n",
       "No with veto    0.162252\n",
       "No              0.088576\n",
       "Abstain         0.016556\n",
       "Name: option, dtype: float64"
      ]
     },
     "execution_count": 21,
     "metadata": {},
     "output_type": "execute_result"
    }
   ],
   "source": [
    "m[m.typew=='Pre-Col5'].option.value_counts(normalize=True)"
   ]
  },
  {
   "cell_type": "code",
   "execution_count": null,
   "metadata": {},
   "outputs": [],
   "source": []
  }
 ],
 "metadata": {
  "kernelspec": {
   "display_name": "Python 3",
   "language": "python",
   "name": "python3"
  },
  "language_info": {
   "codemirror_mode": {
    "name": "ipython",
    "version": 3
   },
   "file_extension": ".py",
   "mimetype": "text/x-python",
   "name": "python",
   "nbconvert_exporter": "python",
   "pygments_lexer": "ipython3",
   "version": "3.8.2"
  }
 },
 "nbformat": 4,
 "nbformat_minor": 4
}
