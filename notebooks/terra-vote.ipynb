{
 "cells": [
  {
   "cell_type": "code",
   "execution_count": 276,
   "metadata": {},
   "outputs": [],
   "source": [
    "import pandas as pd\n",
    "import altair as alt\n",
    "alt.renderers.set_embed_options(theme='dark')\n",
    "pd.set_option('display.max_colwidth', None)"
   ]
  },
  {
   "cell_type": "markdown",
   "metadata": {},
   "source": [
    "# Analysis & Charts"
   ]
  },
  {
   "cell_type": "code",
   "execution_count": 277,
   "metadata": {},
   "outputs": [],
   "source": [
    "def claim(claim_hash):\n",
    "    try:\n",
    "        df_claim = pd.read_json(\n",
    "            f'https://node-api.flipsidecrypto.com/api/v2/queries/{claim_hash}/data/latest',\n",
    "            convert_dates=[\"BLOCK_TIMESTAMP\"],\n",
    "        )\n",
    "    except Exception as e:\n",
    "        print(e)\n",
    "        return \n",
    "    return df_claim"
   ]
  },
  {
   "cell_type": "code",
   "execution_count": 278,
   "metadata": {},
   "outputs": [],
   "source": [
    "class DataProvider:    \n",
    "    \n",
    "    def __init__(self):\n",
    "        self.vote = 'a3efd3f0-724b-4a26-9f92-6083c7c52785'\n",
    "        self.date_wallet = '074c2ad1-a842-442d-a0f5-6456b35be648'\n",
    "        self.validators_voting_power = 'fe7c80cd-d061-4c66-8230-68f7776bafbb'\n",
    "        self.validators = 'db245c79-577e-4aa0-876e-49e57556afaa'\n",
    "    \n",
    "    def get_vote(self):\n",
    "        df = claim(self.vote)\n",
    "        df.columns = [c.lower() for c in df.columns]\n",
    "        return df\n",
    "    \n",
    "    def get_date_wallet(self):\n",
    "        df = claim(self.date_wallet)\n",
    "        df.columns = [c.lower() for c in df.columns]\n",
    "        return df\n",
    "    \n",
    "    def get_validators(self):\n",
    "        df = claim(self.validators)\n",
    "        df.columns = [c.lower() for c in df.columns]\n",
    "        return df\n",
    "    \n",
    "    def get_validators_voting_powers(self):\n",
    "        df = claim(self.validators_voting_power)\n",
    "        df.columns = [c.lower() for c in df.columns]\n",
    "        df['day'] = df.day.apply(lambda x: str(x)[:10])\n",
    "        df = df[df.day=='2022-05-12']\n",
    "        return df\n",
    "    \n",
    "   "
   ]
  },
  {
   "cell_type": "code",
   "execution_count": 279,
   "metadata": {},
   "outputs": [],
   "source": [
    "dp = DataProvider()"
   ]
  },
  {
   "cell_type": "markdown",
   "metadata": {},
   "source": [
    "## Handle Validators"
   ]
  },
  {
   "cell_type": "code",
   "execution_count": 280,
   "metadata": {},
   "outputs": [
    {
     "data": {
      "text/html": [
       "<div>\n",
       "<style scoped>\n",
       "    .dataframe tbody tr th:only-of-type {\n",
       "        vertical-align: middle;\n",
       "    }\n",
       "\n",
       "    .dataframe tbody tr th {\n",
       "        vertical-align: top;\n",
       "    }\n",
       "\n",
       "    .dataframe thead th {\n",
       "        text-align: right;\n",
       "    }\n",
       "</style>\n",
       "<table border=\"1\" class=\"dataframe\">\n",
       "  <thead>\n",
       "    <tr style=\"text-align: right;\">\n",
       "      <th></th>\n",
       "      <th>label</th>\n",
       "      <th>operator_address</th>\n",
       "      <th>delegator_address</th>\n",
       "      <th>vp_address</th>\n",
       "      <th>address</th>\n",
       "    </tr>\n",
       "  </thead>\n",
       "  <tbody>\n",
       "    <tr>\n",
       "      <th>37</th>\n",
       "      <td>Orion.Money</td>\n",
       "      <td>terravaloper1259cmu5zyklsdkmgstxhwqpe0utfe5hhyty0at</td>\n",
       "      <td>terra1259cmu5zyklsdkmgstxhwqpe0utfe5hhyygjdc</td>\n",
       "      <td>terravalcons1ty43n6et4c2hc9ccpmrlvk3yj68lpxreekqgyd</td>\n",
       "      <td>terra1259cmu5zyklsdkmgstxhwqpe0utfe5hhyygjdc</td>\n",
       "    </tr>\n",
       "  </tbody>\n",
       "</table>\n",
       "</div>"
      ],
      "text/plain": [
       "          label                                     operator_address  \\\n",
       "37  Orion.Money  terravaloper1259cmu5zyklsdkmgstxhwqpe0utfe5hhyty0at   \n",
       "\n",
       "                               delegator_address  \\\n",
       "37  terra1259cmu5zyklsdkmgstxhwqpe0utfe5hhyygjdc   \n",
       "\n",
       "                                             vp_address  \\\n",
       "37  terravalcons1ty43n6et4c2hc9ccpmrlvk3yj68lpxreekqgyd   \n",
       "\n",
       "                                         address  \n",
       "37  terra1259cmu5zyklsdkmgstxhwqpe0utfe5hhyygjdc  "
      ]
     },
     "execution_count": 280,
     "metadata": {},
     "output_type": "execute_result"
    }
   ],
   "source": [
    "valid = dp.get_validators()\n",
    "valid['address'] = valid.delegator_address\n",
    "valid[valid.operator_address=='terravaloper1259cmu5zyklsdkmgstxhwqpe0utfe5hhyty0at']"
   ]
  },
  {
   "cell_type": "code",
   "execution_count": 281,
   "metadata": {},
   "outputs": [
    {
     "data": {
      "text/plain": [
       "Index(['day', 'address', 'voting_power', 'date', 'vp_address'], dtype='object')"
      ]
     },
     "execution_count": 281,
     "metadata": {},
     "output_type": "execute_result"
    }
   ],
   "source": [
    "valid_vp = dp.get_validators_voting_powers()\n",
    "valid_vp['date'] = valid_vp['day'].apply(str)\n",
    "valid_vp['vp_address'] = valid_vp.address\n",
    "valid_vp.columns"
   ]
  },
  {
   "cell_type": "code",
   "execution_count": 282,
   "metadata": {},
   "outputs": [
    {
     "data": {
      "text/plain": [
       "Index(['date', 'address', 'blockchain', 'chain_id', 'tx_status', 'block_id',\n",
       "       'block_timestamp', 'tx_id', 'msg_type', 'voter', 'voter_label_type',\n",
       "       'voter_label_subtype', 'voter_address_label', 'voter_address_name',\n",
       "       'proposal_id', 'option', 'voting_power', 'address_label_type',\n",
       "       'address_label_subtype', 'address_label', 'address_name', 'balance',\n",
       "       'balance_usd', 'balance_type', 'is_native', 'currency'],\n",
       "      dtype='object')"
      ]
     },
     "execution_count": 282,
     "metadata": {},
     "output_type": "execute_result"
    }
   ],
   "source": [
    "votes = dp.get_vote()\n",
    "votes['date'] = votes['date'].apply(lambda x: str(x)[:10])\n",
    "votes.columns"
   ]
  },
  {
   "cell_type": "code",
   "execution_count": 283,
   "metadata": {},
   "outputs": [
    {
     "data": {
      "text/html": [
       "<div>\n",
       "<style scoped>\n",
       "    .dataframe tbody tr th:only-of-type {\n",
       "        vertical-align: middle;\n",
       "    }\n",
       "\n",
       "    .dataframe tbody tr th {\n",
       "        vertical-align: top;\n",
       "    }\n",
       "\n",
       "    .dataframe thead th {\n",
       "        text-align: right;\n",
       "    }\n",
       "</style>\n",
       "<table border=\"1\" class=\"dataframe\">\n",
       "  <thead>\n",
       "    <tr style=\"text-align: right;\">\n",
       "      <th></th>\n",
       "      <th>label</th>\n",
       "      <th>operator_address</th>\n",
       "      <th>delegator_address</th>\n",
       "      <th>vp_address</th>\n",
       "      <th>address</th>\n",
       "      <th>date</th>\n",
       "      <th>blockchain</th>\n",
       "      <th>chain_id</th>\n",
       "      <th>tx_status</th>\n",
       "      <th>block_id</th>\n",
       "      <th>...</th>\n",
       "      <th>address_label_subtype</th>\n",
       "      <th>address_label</th>\n",
       "      <th>address_name</th>\n",
       "      <th>balance</th>\n",
       "      <th>balance_usd</th>\n",
       "      <th>balance_type</th>\n",
       "      <th>is_native</th>\n",
       "      <th>currency</th>\n",
       "      <th>day</th>\n",
       "      <th>voting_power</th>\n",
       "    </tr>\n",
       "  </thead>\n",
       "  <tbody>\n",
       "    <tr>\n",
       "      <th>2</th>\n",
       "      <td>Orion.Money</td>\n",
       "      <td>terravaloper1259cmu5zyklsdkmgstxhwqpe0utfe5hhyty0at</td>\n",
       "      <td>terra1259cmu5zyklsdkmgstxhwqpe0utfe5hhyygjdc</td>\n",
       "      <td>terravalcons1ty43n6et4c2hc9ccpmrlvk3yj68lpxreekqgyd</td>\n",
       "      <td>terra1259cmu5zyklsdkmgstxhwqpe0utfe5hhyygjdc</td>\n",
       "      <td>2022-05-20 00:00:00</td>\n",
       "      <td>terra</td>\n",
       "      <td>columbus-5</td>\n",
       "      <td>SUCCEEDED</td>\n",
       "      <td>7710376</td>\n",
       "      <td>...</td>\n",
       "      <td>validator</td>\n",
       "      <td>Orion.Money</td>\n",
       "      <td>delegator_address</td>\n",
       "      <td>1.680850e+07</td>\n",
       "      <td>0.0</td>\n",
       "      <td>staked</td>\n",
       "      <td>True</td>\n",
       "      <td>LUNA</td>\n",
       "      <td>2022-05-12</td>\n",
       "      <td>1.680850e+07</td>\n",
       "    </tr>\n",
       "  </tbody>\n",
       "</table>\n",
       "<p>1 rows × 31 columns</p>\n",
       "</div>"
      ],
      "text/plain": [
       "         label                                     operator_address  \\\n",
       "2  Orion.Money  terravaloper1259cmu5zyklsdkmgstxhwqpe0utfe5hhyty0at   \n",
       "\n",
       "                              delegator_address  \\\n",
       "2  terra1259cmu5zyklsdkmgstxhwqpe0utfe5hhyygjdc   \n",
       "\n",
       "                                            vp_address  \\\n",
       "2  terravalcons1ty43n6et4c2hc9ccpmrlvk3yj68lpxreekqgyd   \n",
       "\n",
       "                                        address                 date  \\\n",
       "2  terra1259cmu5zyklsdkmgstxhwqpe0utfe5hhyygjdc  2022-05-20 00:00:00   \n",
       "\n",
       "  blockchain    chain_id  tx_status  block_id  ... address_label_subtype  \\\n",
       "2      terra  columbus-5  SUCCEEDED   7710376  ...             validator   \n",
       "\n",
       "  address_label       address_name       balance balance_usd balance_type  \\\n",
       "2   Orion.Money  delegator_address  1.680850e+07         0.0       staked   \n",
       "\n",
       "  is_native currency         day  voting_power  \n",
       "2      True     LUNA  2022-05-12  1.680850e+07  \n",
       "\n",
       "[1 rows x 31 columns]"
      ]
     },
     "execution_count": 283,
     "metadata": {},
     "output_type": "execute_result"
    }
   ],
   "source": [
    "valid_final = valid.merge(votes.drop(columns=['voting_power']),on='address')\\\n",
    "                   .merge(valid_vp.drop(columns=['address','date']), on=['vp_address'])\n",
    "valid_final['balance'] = valid_final.voting_power\n",
    "valid_final['date'] = valid_final['date']+' 00:00:00'\n",
    "valid_final[valid_final.address=='terra1259cmu5zyklsdkmgstxhwqpe0utfe5hhyygjdc']"
   ]
  },
  {
   "cell_type": "markdown",
   "metadata": {},
   "source": [
    "## ----------------"
   ]
  },
  {
   "cell_type": "code",
   "execution_count": 284,
   "metadata": {},
   "outputs": [
    {
     "data": {
      "text/html": [
       "<div>\n",
       "<style scoped>\n",
       "    .dataframe tbody tr th:only-of-type {\n",
       "        vertical-align: middle;\n",
       "    }\n",
       "\n",
       "    .dataframe tbody tr th {\n",
       "        vertical-align: top;\n",
       "    }\n",
       "\n",
       "    .dataframe thead th {\n",
       "        text-align: right;\n",
       "    }\n",
       "</style>\n",
       "<table border=\"1\" class=\"dataframe\">\n",
       "  <thead>\n",
       "    <tr style=\"text-align: right;\">\n",
       "      <th></th>\n",
       "      <th>date</th>\n",
       "      <th>address</th>\n",
       "      <th>blockchain</th>\n",
       "      <th>chain_id</th>\n",
       "      <th>tx_status</th>\n",
       "      <th>block_id</th>\n",
       "      <th>block_timestamp</th>\n",
       "      <th>tx_id</th>\n",
       "      <th>msg_type</th>\n",
       "      <th>voter</th>\n",
       "      <th>...</th>\n",
       "      <th>voting_power</th>\n",
       "      <th>address_label_type</th>\n",
       "      <th>address_label_subtype</th>\n",
       "      <th>address_label</th>\n",
       "      <th>address_name</th>\n",
       "      <th>balance</th>\n",
       "      <th>balance_usd</th>\n",
       "      <th>balance_type</th>\n",
       "      <th>is_native</th>\n",
       "      <th>currency</th>\n",
       "    </tr>\n",
       "  </thead>\n",
       "  <tbody>\n",
       "    <tr>\n",
       "      <th>4058</th>\n",
       "      <td>2022-05-18</td>\n",
       "      <td>terra185y6yqq9wfxwq58chunj3as3rdgf3jpde9q4dv</td>\n",
       "      <td>terra</td>\n",
       "      <td>columbus-5</td>\n",
       "      <td>SUCCEEDED</td>\n",
       "      <td>7680430</td>\n",
       "      <td>2022-05-18 18:51:28.158</td>\n",
       "      <td>96CB805BD59934B0F9842DA23947147C19D1CDC4F9C85FEF55B68955B0A16CE5</td>\n",
       "      <td>gov/MsgVote</td>\n",
       "      <td>terra185y6yqq9wfxwq58chunj3as3rdgf3jpde9q4dv</td>\n",
       "      <td>...</td>\n",
       "      <td>NaN</td>\n",
       "      <td>None</td>\n",
       "      <td>None</td>\n",
       "      <td>None</td>\n",
       "      <td>None</td>\n",
       "      <td>36000.0</td>\n",
       "      <td>6.427104</td>\n",
       "      <td>staked</td>\n",
       "      <td>True</td>\n",
       "      <td>LUNA</td>\n",
       "    </tr>\n",
       "  </tbody>\n",
       "</table>\n",
       "<p>1 rows × 26 columns</p>\n",
       "</div>"
      ],
      "text/plain": [
       "           date                                       address blockchain  \\\n",
       "4058 2022-05-18  terra185y6yqq9wfxwq58chunj3as3rdgf3jpde9q4dv      terra   \n",
       "\n",
       "        chain_id  tx_status  block_id         block_timestamp  \\\n",
       "4058  columbus-5  SUCCEEDED   7680430 2022-05-18 18:51:28.158   \n",
       "\n",
       "                                                                 tx_id  \\\n",
       "4058  96CB805BD59934B0F9842DA23947147C19D1CDC4F9C85FEF55B68955B0A16CE5   \n",
       "\n",
       "         msg_type                                         voter  ...  \\\n",
       "4058  gov/MsgVote  terra185y6yqq9wfxwq58chunj3as3rdgf3jpde9q4dv  ...   \n",
       "\n",
       "     voting_power address_label_type address_label_subtype address_label  \\\n",
       "4058          NaN               None                  None          None   \n",
       "\n",
       "      address_name  balance  balance_usd balance_type is_native currency  \n",
       "4058          None  36000.0     6.427104       staked      True     LUNA  \n",
       "\n",
       "[1 rows x 26 columns]"
      ]
     },
     "execution_count": 284,
     "metadata": {},
     "output_type": "execute_result"
    }
   ],
   "source": [
    "df = dp.get_vote()\n",
    "df[df.address.str.contains('9q4dv')]"
   ]
  },
  {
   "cell_type": "markdown",
   "metadata": {},
   "source": [
    "**Merge validators and normal users**"
   ]
  },
  {
   "cell_type": "code",
   "execution_count": 286,
   "metadata": {},
   "outputs": [
    {
     "name": "stderr",
     "output_type": "stream",
     "text": [
      "<ipython-input-286-1a870f0b2588>:2: SettingWithCopyWarning: \n",
      "A value is trying to be set on a copy of a slice from a DataFrame.\n",
      "Try using .loc[row_indexer,col_indexer] = value instead\n",
      "\n",
      "See the caveats in the documentation: https://pandas.pydata.org/pandas-docs/stable/user_guide/indexing.html#returning-a-view-versus-a-copy\n",
      "  not_validators['validator'] = False\n"
     ]
    }
   ],
   "source": [
    "not_validators = df[~df.address.isin(valid_final.address.values)]\n",
    "not_validators['validator'] = False\n",
    "valid_final['validator'] = True\n",
    "df = not_validators.append(valid_final[not_validators.columns])\n",
    "df.date = pd.to_datetime(df.date)"
   ]
  },
  {
   "cell_type": "code",
   "execution_count": 287,
   "metadata": {},
   "outputs": [
    {
     "data": {
      "text/html": [
       "<div>\n",
       "<style scoped>\n",
       "    .dataframe tbody tr th:only-of-type {\n",
       "        vertical-align: middle;\n",
       "    }\n",
       "\n",
       "    .dataframe tbody tr th {\n",
       "        vertical-align: top;\n",
       "    }\n",
       "\n",
       "    .dataframe thead th {\n",
       "        text-align: right;\n",
       "    }\n",
       "</style>\n",
       "<table border=\"1\" class=\"dataframe\">\n",
       "  <thead>\n",
       "    <tr style=\"text-align: right;\">\n",
       "      <th></th>\n",
       "      <th>date</th>\n",
       "      <th>address</th>\n",
       "      <th>blockchain</th>\n",
       "      <th>chain_id</th>\n",
       "      <th>tx_status</th>\n",
       "      <th>block_id</th>\n",
       "      <th>block_timestamp</th>\n",
       "      <th>tx_id</th>\n",
       "      <th>msg_type</th>\n",
       "      <th>voter</th>\n",
       "      <th>...</th>\n",
       "      <th>address_label_type</th>\n",
       "      <th>address_label_subtype</th>\n",
       "      <th>address_label</th>\n",
       "      <th>address_name</th>\n",
       "      <th>balance</th>\n",
       "      <th>balance_usd</th>\n",
       "      <th>balance_type</th>\n",
       "      <th>is_native</th>\n",
       "      <th>currency</th>\n",
       "      <th>validator</th>\n",
       "    </tr>\n",
       "  </thead>\n",
       "  <tbody>\n",
       "    <tr>\n",
       "      <th>2</th>\n",
       "      <td>2022-05-20</td>\n",
       "      <td>terra1259cmu5zyklsdkmgstxhwqpe0utfe5hhyygjdc</td>\n",
       "      <td>terra</td>\n",
       "      <td>columbus-5</td>\n",
       "      <td>SUCCEEDED</td>\n",
       "      <td>7710376</td>\n",
       "      <td>2022-05-20 22:59:05.095</td>\n",
       "      <td>4787E4BF3B47BF48F161BF1DFAA9747850D8196903667DC7B2B92F1EDF75BCC7</td>\n",
       "      <td>gov/MsgVote</td>\n",
       "      <td>terra1259cmu5zyklsdkmgstxhwqpe0utfe5hhyygjdc</td>\n",
       "      <td>...</td>\n",
       "      <td>operator</td>\n",
       "      <td>validator</td>\n",
       "      <td>Orion.Money</td>\n",
       "      <td>delegator_address</td>\n",
       "      <td>1.680850e+07</td>\n",
       "      <td>0.0</td>\n",
       "      <td>staked</td>\n",
       "      <td>True</td>\n",
       "      <td>LUNA</td>\n",
       "      <td>True</td>\n",
       "    </tr>\n",
       "  </tbody>\n",
       "</table>\n",
       "<p>1 rows × 27 columns</p>\n",
       "</div>"
      ],
      "text/plain": [
       "        date                                       address blockchain  \\\n",
       "2 2022-05-20  terra1259cmu5zyklsdkmgstxhwqpe0utfe5hhyygjdc      terra   \n",
       "\n",
       "     chain_id  tx_status  block_id         block_timestamp  \\\n",
       "2  columbus-5  SUCCEEDED   7710376 2022-05-20 22:59:05.095   \n",
       "\n",
       "                                                              tx_id  \\\n",
       "2  4787E4BF3B47BF48F161BF1DFAA9747850D8196903667DC7B2B92F1EDF75BCC7   \n",
       "\n",
       "      msg_type                                         voter  ...  \\\n",
       "2  gov/MsgVote  terra1259cmu5zyklsdkmgstxhwqpe0utfe5hhyygjdc  ...   \n",
       "\n",
       "  address_label_type address_label_subtype address_label       address_name  \\\n",
       "2           operator             validator   Orion.Money  delegator_address   \n",
       "\n",
       "        balance balance_usd  balance_type is_native currency validator  \n",
       "2  1.680850e+07         0.0        staked      True     LUNA      True  \n",
       "\n",
       "[1 rows x 27 columns]"
      ]
     },
     "execution_count": 287,
     "metadata": {},
     "output_type": "execute_result"
    }
   ],
   "source": [
    "df[df.address=='terra1259cmu5zyklsdkmgstxhwqpe0utfe5hhyygjdc']"
   ]
  },
  {
   "cell_type": "code",
   "execution_count": 289,
   "metadata": {},
   "outputs": [
    {
     "data": {
      "text/html": [
       "<div>\n",
       "<style scoped>\n",
       "    .dataframe tbody tr th:only-of-type {\n",
       "        vertical-align: middle;\n",
       "    }\n",
       "\n",
       "    .dataframe tbody tr th {\n",
       "        vertical-align: top;\n",
       "    }\n",
       "\n",
       "    .dataframe thead th {\n",
       "        text-align: right;\n",
       "    }\n",
       "</style>\n",
       "<table border=\"1\" class=\"dataframe\">\n",
       "  <thead>\n",
       "    <tr style=\"text-align: right;\">\n",
       "      <th></th>\n",
       "      <th>date</th>\n",
       "      <th>address</th>\n",
       "      <th>blockchain</th>\n",
       "      <th>chain_id</th>\n",
       "      <th>tx_status</th>\n",
       "      <th>block_id</th>\n",
       "      <th>block_timestamp</th>\n",
       "      <th>tx_id</th>\n",
       "      <th>msg_type</th>\n",
       "      <th>voter</th>\n",
       "      <th>...</th>\n",
       "      <th>address_label_type</th>\n",
       "      <th>address_label_subtype</th>\n",
       "      <th>address_label</th>\n",
       "      <th>address_name</th>\n",
       "      <th>balance</th>\n",
       "      <th>balance_usd</th>\n",
       "      <th>balance_type</th>\n",
       "      <th>is_native</th>\n",
       "      <th>currency</th>\n",
       "      <th>validator</th>\n",
       "    </tr>\n",
       "  </thead>\n",
       "  <tbody>\n",
       "    <tr>\n",
       "      <th>0</th>\n",
       "      <td>2022-05-18</td>\n",
       "      <td>terra1zr8e8zst7ex3mu45en4udtgu2w20gnankwud22</td>\n",
       "      <td>terra</td>\n",
       "      <td>columbus-5</td>\n",
       "      <td>SUCCEEDED</td>\n",
       "      <td>7676810</td>\n",
       "      <td>2022-05-18 12:33:35.407</td>\n",
       "      <td>605D666A02308766BD27D0D7E3DFAFB5E578CBA2B4EEE24971A76E3FBED3A367</td>\n",
       "      <td>gov/MsgVote</td>\n",
       "      <td>terra1zr8e8zst7ex3mu45en4udtgu2w20gnankwud22</td>\n",
       "      <td>...</td>\n",
       "      <td>None</td>\n",
       "      <td>None</td>\n",
       "      <td>None</td>\n",
       "      <td>None</td>\n",
       "      <td>0.0</td>\n",
       "      <td>0.0</td>\n",
       "      <td>staked</td>\n",
       "      <td>True</td>\n",
       "      <td>LUNA</td>\n",
       "      <td>False</td>\n",
       "    </tr>\n",
       "    <tr>\n",
       "      <th>1</th>\n",
       "      <td>2022-05-18</td>\n",
       "      <td>terra1wv4354elu972vhzsyz8kvp5ft6a658qzhpex3d</td>\n",
       "      <td>terra</td>\n",
       "      <td>columbus-5</td>\n",
       "      <td>SUCCEEDED</td>\n",
       "      <td>7676608</td>\n",
       "      <td>2022-05-18 12:12:38.631</td>\n",
       "      <td>E7A96FD3E68F1D3CA8E7A85A4B24E17C5A501322763346293337D9F4C57B2F79</td>\n",
       "      <td>gov/MsgVote</td>\n",
       "      <td>terra1wv4354elu972vhzsyz8kvp5ft6a658qzhpex3d</td>\n",
       "      <td>...</td>\n",
       "      <td>None</td>\n",
       "      <td>None</td>\n",
       "      <td>None</td>\n",
       "      <td>None</td>\n",
       "      <td>0.0</td>\n",
       "      <td>0.0</td>\n",
       "      <td>staked</td>\n",
       "      <td>True</td>\n",
       "      <td>LUNA</td>\n",
       "      <td>False</td>\n",
       "    </tr>\n",
       "    <tr>\n",
       "      <th>2</th>\n",
       "      <td>2022-05-18</td>\n",
       "      <td>terra1pad3j0zqva82pf95nj73y2j768l4ke5rw9rauu</td>\n",
       "      <td>terra</td>\n",
       "      <td>columbus-5</td>\n",
       "      <td>SUCCEEDED</td>\n",
       "      <td>7676856</td>\n",
       "      <td>2022-05-18 12:38:21.190</td>\n",
       "      <td>1B13660511A38A53F54CDC43B1C0C1C9D0A65B0E0A5A333007AA2D38EFE61560</td>\n",
       "      <td>gov/MsgVote</td>\n",
       "      <td>terra1pad3j0zqva82pf95nj73y2j768l4ke5rw9rauu</td>\n",
       "      <td>...</td>\n",
       "      <td>None</td>\n",
       "      <td>None</td>\n",
       "      <td>None</td>\n",
       "      <td>None</td>\n",
       "      <td>0.0</td>\n",
       "      <td>0.0</td>\n",
       "      <td>staked</td>\n",
       "      <td>True</td>\n",
       "      <td>LUNA</td>\n",
       "      <td>False</td>\n",
       "    </tr>\n",
       "    <tr>\n",
       "      <th>3</th>\n",
       "      <td>2022-05-19</td>\n",
       "      <td>terra1dxve5zf2h67jdnhrpexamskawmtumh885kspym</td>\n",
       "      <td>terra</td>\n",
       "      <td>columbus-5</td>\n",
       "      <td>SUCCEEDED</td>\n",
       "      <td>7689903</td>\n",
       "      <td>2022-05-19 11:14:48.141</td>\n",
       "      <td>09E819D627EFDDBC20BFD7C30247C434A6F2248B0A5D80BBBE1E1744D8AE2A70</td>\n",
       "      <td>gov/MsgVote</td>\n",
       "      <td>terra1dxve5zf2h67jdnhrpexamskawmtumh885kspym</td>\n",
       "      <td>...</td>\n",
       "      <td>None</td>\n",
       "      <td>None</td>\n",
       "      <td>None</td>\n",
       "      <td>None</td>\n",
       "      <td>0.0</td>\n",
       "      <td>0.0</td>\n",
       "      <td>staked</td>\n",
       "      <td>True</td>\n",
       "      <td>LUNA</td>\n",
       "      <td>False</td>\n",
       "    </tr>\n",
       "    <tr>\n",
       "      <th>4</th>\n",
       "      <td>2022-05-19</td>\n",
       "      <td>terra1fsl70smtv94pxwm82stufn2pgzdgp0tz3puqcf</td>\n",
       "      <td>terra</td>\n",
       "      <td>columbus-5</td>\n",
       "      <td>SUCCEEDED</td>\n",
       "      <td>7691571</td>\n",
       "      <td>2022-05-19 14:07:33.940</td>\n",
       "      <td>0F7E35DA5B71986230416CE038698FAD5EA1BFF337E8DA1D476991A362C710F7</td>\n",
       "      <td>gov/MsgVote</td>\n",
       "      <td>terra1fsl70smtv94pxwm82stufn2pgzdgp0tz3puqcf</td>\n",
       "      <td>...</td>\n",
       "      <td>None</td>\n",
       "      <td>None</td>\n",
       "      <td>None</td>\n",
       "      <td>None</td>\n",
       "      <td>0.0</td>\n",
       "      <td>0.0</td>\n",
       "      <td>staked</td>\n",
       "      <td>True</td>\n",
       "      <td>LUNA</td>\n",
       "      <td>False</td>\n",
       "    </tr>\n",
       "  </tbody>\n",
       "</table>\n",
       "<p>5 rows × 27 columns</p>\n",
       "</div>"
      ],
      "text/plain": [
       "        date                                       address blockchain  \\\n",
       "0 2022-05-18  terra1zr8e8zst7ex3mu45en4udtgu2w20gnankwud22      terra   \n",
       "1 2022-05-18  terra1wv4354elu972vhzsyz8kvp5ft6a658qzhpex3d      terra   \n",
       "2 2022-05-18  terra1pad3j0zqva82pf95nj73y2j768l4ke5rw9rauu      terra   \n",
       "3 2022-05-19  terra1dxve5zf2h67jdnhrpexamskawmtumh885kspym      terra   \n",
       "4 2022-05-19  terra1fsl70smtv94pxwm82stufn2pgzdgp0tz3puqcf      terra   \n",
       "\n",
       "     chain_id  tx_status  block_id         block_timestamp  \\\n",
       "0  columbus-5  SUCCEEDED   7676810 2022-05-18 12:33:35.407   \n",
       "1  columbus-5  SUCCEEDED   7676608 2022-05-18 12:12:38.631   \n",
       "2  columbus-5  SUCCEEDED   7676856 2022-05-18 12:38:21.190   \n",
       "3  columbus-5  SUCCEEDED   7689903 2022-05-19 11:14:48.141   \n",
       "4  columbus-5  SUCCEEDED   7691571 2022-05-19 14:07:33.940   \n",
       "\n",
       "                                                              tx_id  \\\n",
       "0  605D666A02308766BD27D0D7E3DFAFB5E578CBA2B4EEE24971A76E3FBED3A367   \n",
       "1  E7A96FD3E68F1D3CA8E7A85A4B24E17C5A501322763346293337D9F4C57B2F79   \n",
       "2  1B13660511A38A53F54CDC43B1C0C1C9D0A65B0E0A5A333007AA2D38EFE61560   \n",
       "3  09E819D627EFDDBC20BFD7C30247C434A6F2248B0A5D80BBBE1E1744D8AE2A70   \n",
       "4  0F7E35DA5B71986230416CE038698FAD5EA1BFF337E8DA1D476991A362C710F7   \n",
       "\n",
       "      msg_type                                         voter  ...  \\\n",
       "0  gov/MsgVote  terra1zr8e8zst7ex3mu45en4udtgu2w20gnankwud22  ...   \n",
       "1  gov/MsgVote  terra1wv4354elu972vhzsyz8kvp5ft6a658qzhpex3d  ...   \n",
       "2  gov/MsgVote  terra1pad3j0zqva82pf95nj73y2j768l4ke5rw9rauu  ...   \n",
       "3  gov/MsgVote  terra1dxve5zf2h67jdnhrpexamskawmtumh885kspym  ...   \n",
       "4  gov/MsgVote  terra1fsl70smtv94pxwm82stufn2pgzdgp0tz3puqcf  ...   \n",
       "\n",
       "  address_label_type address_label_subtype address_label address_name  \\\n",
       "0               None                  None          None         None   \n",
       "1               None                  None          None         None   \n",
       "2               None                  None          None         None   \n",
       "3               None                  None          None         None   \n",
       "4               None                  None          None         None   \n",
       "\n",
       "   balance balance_usd  balance_type is_native currency validator  \n",
       "0      0.0         0.0        staked      True     LUNA     False  \n",
       "1      0.0         0.0        staked      True     LUNA     False  \n",
       "2      0.0         0.0        staked      True     LUNA     False  \n",
       "3      0.0         0.0        staked      True     LUNA     False  \n",
       "4      0.0         0.0        staked      True     LUNA     False  \n",
       "\n",
       "[5 rows x 27 columns]"
      ]
     },
     "execution_count": 289,
     "metadata": {},
     "output_type": "execute_result"
    }
   ],
   "source": [
    "df.head()"
   ]
  },
  {
   "cell_type": "code",
   "execution_count": 290,
   "metadata": {},
   "outputs": [],
   "source": [
    "df.set_index('tx_id').to_json('../data/votes_tx.json')"
   ]
  },
  {
   "cell_type": "code",
   "execution_count": 291,
   "metadata": {},
   "outputs": [
    {
     "data": {
      "text/plain": [
       "array(['VOTE_OPTION_NO_WITH_VETO', 'VOTE_OPTION_YES', 'VOTE_OPTION_NO',\n",
       "       'VOTE_OPTION_ABSTAIN'], dtype=object)"
      ]
     },
     "execution_count": 291,
     "metadata": {},
     "output_type": "execute_result"
    }
   ],
   "source": [
    "df.option.unique()"
   ]
  },
  {
   "cell_type": "code",
   "execution_count": 292,
   "metadata": {},
   "outputs": [],
   "source": [
    "df['hours_since_start'] = (df.block_timestamp - df.block_timestamp.min()).apply(lambda x: x.total_seconds() / 3600)"
   ]
  },
  {
   "cell_type": "code",
   "execution_count": 293,
   "metadata": {},
   "outputs": [],
   "source": [
    "df.option = df.option.map({'VOTE_OPTION_NO_WITH_VETO':'No with veto',\n",
    "               'VOTE_OPTION_YES':'Yes',\n",
    "               'VOTE_OPTION_NO':'No',\n",
    "               'VOTE_OPTION_ABSTAIN':'Abstain'})"
   ]
  },
  {
   "cell_type": "code",
   "execution_count": 294,
   "metadata": {},
   "outputs": [],
   "source": [
    "df.to_json('../data/votes.json',orient='records')"
   ]
  },
  {
   "cell_type": "markdown",
   "metadata": {},
   "source": [
    "## Quick and dirty analysis"
   ]
  },
  {
   "cell_type": "code",
   "execution_count": 296,
   "metadata": {},
   "outputs": [],
   "source": [
    "wc = dp.get_date_wallet()\n",
    "wc['date'] = wc['min(date)']\n",
    "wc['age'] = (pd.Timestamp('2022-05-20') - pd.to_datetime(wc.date)).apply(lambda x: x.total_seconds()/3600/24)"
   ]
  },
  {
   "cell_type": "code",
   "execution_count": 297,
   "metadata": {},
   "outputs": [],
   "source": [
    "def typew(date):\n",
    "    if(date<'2021-09-30'):\n",
    "        return 'Pre-Col5'\n",
    "    if((date>='2021-09-30')&(date<='2022-05-07')):\n",
    "        return 'Post-Col5'\n",
    "    if((date>'2021-05-07')):\n",
    "        return 'Post-DePeg'\n",
    "\n",
    "wc['typew'] = wc.date.apply(typew)"
   ]
  },
  {
   "cell_type": "code",
   "execution_count": 298,
   "metadata": {},
   "outputs": [],
   "source": [
    "df.merge(wc[['address','age']], on='address', how='left').to_json('../data/votes.json',orient='records')"
   ]
  },
  {
   "cell_type": "code",
   "execution_count": 299,
   "metadata": {},
   "outputs": [],
   "source": [
    "m = wc.merge(df, on='address')"
   ]
  },
  {
   "cell_type": "code",
   "execution_count": 300,
   "metadata": {},
   "outputs": [
    {
     "data": {
      "text/plain": [
       "<AxesSubplot:title={'center':'Number of Users'}>"
      ]
     },
     "execution_count": 300,
     "metadata": {},
     "output_type": "execute_result"
    },
    {
     "data": {
      "image/png": "[encoded data removed]",
      "text/plain": [
       "<Figure size 432x288 with 1 Axes>"
      ]
     },
     "metadata": {
      "needs_background": "light"
     },
     "output_type": "display_data"
    }
   ],
   "source": [
    "m.typew.value_counts(normalize=True).plot(kind='bar',rot=0, title='Number of Users')"
   ]
  },
  {
   "cell_type": "code",
   "execution_count": 301,
   "metadata": {},
   "outputs": [
    {
     "data": {
      "text/plain": [
       "<AxesSubplot:title={'center':'Voting Power'}, xlabel='typew'>"
      ]
     },
     "execution_count": 301,
     "metadata": {},
     "output_type": "execute_result"
    },
    {
     "data": {
      "image/png": "[encoded data removed]",
      "text/plain": [
       "<Figure size 432x288 with 1 Axes>"
      ]
     },
     "metadata": {
      "needs_background": "light"
     },
     "output_type": "display_data"
    }
   ],
   "source": [
    "dfm = (m.groupby('typew').balance.sum())/1000000\n",
    "(dfm/dfm.sum()*100).plot(kind='bar', rot=0, title='Voting Power')"
   ]
  },
  {
   "cell_type": "code",
   "execution_count": 302,
   "metadata": {},
   "outputs": [
    {
     "data": {
      "text/plain": [
       "<AxesSubplot:title={'center':'Pre-Col5'}>"
      ]
     },
     "execution_count": 302,
     "metadata": {},
     "output_type": "execute_result"
    },
    {
     "data": {
      "image/png": "[encoded data removed]",
      "text/plain": [
       "<Figure size 432x288 with 1 Axes>"
      ]
     },
     "metadata": {
      "needs_background": "light"
     },
     "output_type": "display_data"
    }
   ],
   "source": [
    "t='Pre-Col5'\n",
    "m[m.typew==t].option.value_counts(normalize=True).plot(kind='bar', rot=0, title=t)"
   ]
  },
  {
   "cell_type": "code",
   "execution_count": 303,
   "metadata": {},
   "outputs": [
    {
     "data": {
      "text/plain": [
       "Yes             0.717654\n",
       "No with veto    0.220024\n",
       "No              0.057701\n",
       "Abstain         0.004621\n",
       "Name: option, dtype: float64"
      ]
     },
     "execution_count": 303,
     "metadata": {},
     "output_type": "execute_result"
    }
   ],
   "source": [
    "m[m.typew=='Post-DePeg'].option.value_counts(normalize=True)"
   ]
  },
  {
   "cell_type": "code",
   "execution_count": 304,
   "metadata": {},
   "outputs": [
    {
     "data": {
      "text/plain": [
       "Yes             0.631315\n",
       "No with veto    0.232578\n",
       "No              0.124564\n",
       "Abstain         0.011542\n",
       "Name: option, dtype: float64"
      ]
     },
     "execution_count": 304,
     "metadata": {},
     "output_type": "execute_result"
    }
   ],
   "source": [
    "m[m.typew=='Post-Col5'].option.value_counts(normalize=True)"
   ]
  },
  {
   "cell_type": "code",
   "execution_count": 305,
   "metadata": {},
   "outputs": [
    {
     "data": {
      "text/plain": [
       "Yes             0.729375\n",
       "No with veto    0.164225\n",
       "No              0.087124\n",
       "Abstain         0.019275\n",
       "Name: option, dtype: float64"
      ]
     },
     "execution_count": 305,
     "metadata": {},
     "output_type": "execute_result"
    }
   ],
   "source": [
    "m[m.typew=='Pre-Col5'].option.value_counts(normalize=True)"
   ]
  },
  {
   "cell_type": "code",
   "execution_count": 307,
   "metadata": {},
   "outputs": [
    {
     "data": {
      "text/plain": [
       "Yes        0.80\n",
       "Abstain    0.15\n",
       "No         0.05\n",
       "Name: option, dtype: float64"
      ]
     },
     "execution_count": 307,
     "metadata": {},
     "output_type": "execute_result"
    }
   ],
   "source": [
    "m[m.validator].option.value_counts(normalize=True)"
   ]
  },
  {
   "cell_type": "code",
   "execution_count": 309,
   "metadata": {},
   "outputs": [
    {
     "data": {
      "text/plain": [
       "<AxesSubplot:title={'center':'Validators'}>"
      ]
     },
     "execution_count": 309,
     "metadata": {},
     "output_type": "execute_result"
    },
    {
     "data": {
      "image/png": "[encoded data removed]",
      "text/plain": [
       "<Figure size 432x288 with 1 Axes>"
      ]
     },
     "metadata": {
      "needs_background": "light"
     },
     "output_type": "display_data"
    }
   ],
   "source": [
    "m[m.validator].option.value_counts(normalize=True).plot(kind='bar', rot=0, title='Validators')"
   ]
  },
  {
   "cell_type": "code",
   "execution_count": null,
   "metadata": {},
   "outputs": [],
   "source": []
  }
 ],
 "metadata": {
  "kernelspec": {
   "display_name": "Python 3",
   "language": "python",
   "name": "python3"
  },
  "language_info": {
   "codemirror_mode": {
    "name": "ipython",
    "version": 3
   },
   "file_extension": ".py",
   "mimetype": "text/x-python",
   "name": "python",
   "nbconvert_exporter": "python",
   "pygments_lexer": "ipython3",
   "version": "3.8.2"
  }
 },
 "nbformat": 4,
 "nbformat_minor": 4
}
