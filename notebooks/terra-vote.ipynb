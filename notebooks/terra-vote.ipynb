{
 "cells": [
  {
   "cell_type": "code",
   "execution_count": 67,
   "metadata": {},
   "outputs": [],
   "source": [
    "import pandas as pd\n",
    "import altair as alt\n",
    "alt.renderers.set_embed_options(theme='dark')\n",
    "pd.set_option('display.max_colwidth', None)"
   ]
  },
  {
   "cell_type": "markdown",
   "metadata": {},
   "source": [
    "# Analysis & Charts"
   ]
  },
  {
   "cell_type": "code",
   "execution_count": 68,
   "metadata": {},
   "outputs": [],
   "source": [
    "def claim(claim_hash):\n",
    "    try:\n",
    "        df_claim = pd.read_json(\n",
    "            f'https://node-api.flipsidecrypto.com/api/v2/queries/{claim_hash}/data/latest',\n",
    "            convert_dates=[\"BLOCK_TIMESTAMP\"],\n",
    "        )\n",
    "    except Exception as e:\n",
    "        print(e)\n",
    "        return \n",
    "    return df_claim"
   ]
  },
  {
   "cell_type": "code",
   "execution_count": 69,
   "metadata": {},
   "outputs": [],
   "source": [
    "class DataProvider:    \n",
    "    \n",
    "    def __init__(self):\n",
    "        self.vote = 'a3efd3f0-724b-4a26-9f92-6083c7c52785'\n",
    "        self.date_wallet = '074c2ad1-a842-442d-a0f5-6456b35be648'\n",
    "    \n",
    "    def get_vote(self):\n",
    "        df = claim(self.vote)\n",
    "        df.columns = [c.lower() for c in df.columns]\n",
    "        return df\n",
    "    \n",
    "    def get_date_wallet(self):\n",
    "        df = claim(self.date_wallet)\n",
    "        df.columns = [c.lower() for c in df.columns]\n",
    "        return df\n",
    "    \n",
    "   "
   ]
  },
  {
   "cell_type": "code",
   "execution_count": 70,
   "metadata": {},
   "outputs": [],
   "source": [
    "dp = DataProvider()"
   ]
  },
  {
   "cell_type": "code",
   "execution_count": 71,
   "metadata": {},
   "outputs": [
    {
     "data": {
      "text/html": [
       "<div>\n",
       "<style scoped>\n",
       "    .dataframe tbody tr th:only-of-type {\n",
       "        vertical-align: middle;\n",
       "    }\n",
       "\n",
       "    .dataframe tbody tr th {\n",
       "        vertical-align: top;\n",
       "    }\n",
       "\n",
       "    .dataframe thead th {\n",
       "        text-align: right;\n",
       "    }\n",
       "</style>\n",
       "<table border=\"1\" class=\"dataframe\">\n",
       "  <thead>\n",
       "    <tr style=\"text-align: right;\">\n",
       "      <th></th>\n",
       "      <th>date</th>\n",
       "      <th>address</th>\n",
       "      <th>block_timestamp</th>\n",
       "      <th>tx_id</th>\n",
       "      <th>proposal_id</th>\n",
       "      <th>option</th>\n",
       "      <th>voting_power</th>\n",
       "      <th>balance</th>\n",
       "      <th>currency</th>\n",
       "    </tr>\n",
       "  </thead>\n",
       "  <tbody>\n",
       "    <tr>\n",
       "      <th>0</th>\n",
       "      <td>2022-05-18</td>\n",
       "      <td>terra10ef4efde03ege270dss7gr697c9vnn78dlu0y3</td>\n",
       "      <td>2022-05-18 12:45:21.462</td>\n",
       "      <td>DD9658FDAAC260E62C1FE6C76AD4D340051E1B011FAFFC423EDD8EF0CFC4EACE</td>\n",
       "      <td>1623</td>\n",
       "      <td>VOTE_OPTION_NO_WITH_VETO</td>\n",
       "      <td>NaN</td>\n",
       "      <td>6.3</td>\n",
       "      <td>LUNA</td>\n",
       "    </tr>\n",
       "    <tr>\n",
       "      <th>1</th>\n",
       "      <td>2022-05-18</td>\n",
       "      <td>terra15lwqplpy9m45cyt6e5740tjn7fvf9rggqs3lxm</td>\n",
       "      <td>2022-05-18 13:43:46.525</td>\n",
       "      <td>BB54192D87483E92C894B5E74B6C5085773943D78AB589940EFC6A68BB92B36F</td>\n",
       "      <td>1623</td>\n",
       "      <td>VOTE_OPTION_YES</td>\n",
       "      <td>NaN</td>\n",
       "      <td>0.0</td>\n",
       "      <td>LUNA</td>\n",
       "    </tr>\n",
       "    <tr>\n",
       "      <th>2</th>\n",
       "      <td>2022-05-18</td>\n",
       "      <td>terra1472skx209kxen6xcp8lmghpyjkdsea23nh7386</td>\n",
       "      <td>2022-05-18 13:07:56.294</td>\n",
       "      <td>020DECDE415378C0067A7721DF28AB728C279186E51A3027C9D9A2E67B554D47</td>\n",
       "      <td>1623</td>\n",
       "      <td>VOTE_OPTION_YES</td>\n",
       "      <td>NaN</td>\n",
       "      <td>0.0</td>\n",
       "      <td>LUNA</td>\n",
       "    </tr>\n",
       "    <tr>\n",
       "      <th>3</th>\n",
       "      <td>2022-05-18</td>\n",
       "      <td>terra184620h8m0z75ts2a3wrhj3rfsct5waww507lvl</td>\n",
       "      <td>2022-05-18 17:02:13.630</td>\n",
       "      <td>8318DF81A6D78572DC3A8948F700BC9C8B99516302377294EDB84AE36433EFD7</td>\n",
       "      <td>1623</td>\n",
       "      <td>VOTE_OPTION_NO_WITH_VETO</td>\n",
       "      <td>NaN</td>\n",
       "      <td>0.0</td>\n",
       "      <td>LUNA</td>\n",
       "    </tr>\n",
       "    <tr>\n",
       "      <th>4</th>\n",
       "      <td>2022-05-18</td>\n",
       "      <td>terra1t5tcvnxsjfx5ecz6lclwdcfdw3c2v3t85dwlk7</td>\n",
       "      <td>2022-05-18 13:10:19.719</td>\n",
       "      <td>AAAB7A14A8CCACF32E8DC839AD09AB9D82B65A3597118AA8772A8E1F81DE8E7A</td>\n",
       "      <td>1623</td>\n",
       "      <td>VOTE_OPTION_YES</td>\n",
       "      <td>NaN</td>\n",
       "      <td>0.0</td>\n",
       "      <td>LUNA</td>\n",
       "    </tr>\n",
       "  </tbody>\n",
       "</table>\n",
       "</div>"
      ],
      "text/plain": [
       "        date                                       address  \\\n",
       "0 2022-05-18  terra10ef4efde03ege270dss7gr697c9vnn78dlu0y3   \n",
       "1 2022-05-18  terra15lwqplpy9m45cyt6e5740tjn7fvf9rggqs3lxm   \n",
       "2 2022-05-18  terra1472skx209kxen6xcp8lmghpyjkdsea23nh7386   \n",
       "3 2022-05-18  terra184620h8m0z75ts2a3wrhj3rfsct5waww507lvl   \n",
       "4 2022-05-18  terra1t5tcvnxsjfx5ecz6lclwdcfdw3c2v3t85dwlk7   \n",
       "\n",
       "          block_timestamp  \\\n",
       "0 2022-05-18 12:45:21.462   \n",
       "1 2022-05-18 13:43:46.525   \n",
       "2 2022-05-18 13:07:56.294   \n",
       "3 2022-05-18 17:02:13.630   \n",
       "4 2022-05-18 13:10:19.719   \n",
       "\n",
       "                                                              tx_id  \\\n",
       "0  DD9658FDAAC260E62C1FE6C76AD4D340051E1B011FAFFC423EDD8EF0CFC4EACE   \n",
       "1  BB54192D87483E92C894B5E74B6C5085773943D78AB589940EFC6A68BB92B36F   \n",
       "2  020DECDE415378C0067A7721DF28AB728C279186E51A3027C9D9A2E67B554D47   \n",
       "3  8318DF81A6D78572DC3A8948F700BC9C8B99516302377294EDB84AE36433EFD7   \n",
       "4  AAAB7A14A8CCACF32E8DC839AD09AB9D82B65A3597118AA8772A8E1F81DE8E7A   \n",
       "\n",
       "   proposal_id                    option  voting_power  balance currency  \n",
       "0         1623  VOTE_OPTION_NO_WITH_VETO           NaN      6.3     LUNA  \n",
       "1         1623           VOTE_OPTION_YES           NaN      0.0     LUNA  \n",
       "2         1623           VOTE_OPTION_YES           NaN      0.0     LUNA  \n",
       "3         1623  VOTE_OPTION_NO_WITH_VETO           NaN      0.0     LUNA  \n",
       "4         1623           VOTE_OPTION_YES           NaN      0.0     LUNA  "
      ]
     },
     "execution_count": 71,
     "metadata": {},
     "output_type": "execute_result"
    }
   ],
   "source": [
    "df = dp.get_vote()[['date', 'address', \n",
    "       'block_timestamp', 'tx_id',\n",
    "       'proposal_id', 'option', 'voting_power',  'balance','currency']]\n",
    "df.head()"
   ]
  },
  {
   "cell_type": "code",
   "execution_count": 72,
   "metadata": {},
   "outputs": [],
   "source": [
    "df.set_index('tx_id').to_json('../data/votes_tx.json')"
   ]
  },
  {
   "cell_type": "code",
   "execution_count": 73,
   "metadata": {},
   "outputs": [
    {
     "data": {
      "text/plain": [
       "array(['VOTE_OPTION_NO_WITH_VETO', 'VOTE_OPTION_YES', 'VOTE_OPTION_NO',\n",
       "       'VOTE_OPTION_ABSTAIN'], dtype=object)"
      ]
     },
     "execution_count": 73,
     "metadata": {},
     "output_type": "execute_result"
    }
   ],
   "source": [
    "df.option.unique()"
   ]
  },
  {
   "cell_type": "code",
   "execution_count": 74,
   "metadata": {},
   "outputs": [],
   "source": [
    "df['hours_since_start'] = (df.block_timestamp - df.block_timestamp.min()).apply(lambda x: x.total_seconds() / 3600)"
   ]
  },
  {
   "cell_type": "code",
   "execution_count": 75,
   "metadata": {},
   "outputs": [],
   "source": [
    "df.option = df.option.map({'VOTE_OPTION_NO_WITH_VETO':'No with veto',\n",
    "               'VOTE_OPTION_YES':'Yes',\n",
    "               'VOTE_OPTION_NO':'No',\n",
    "               'VOTE_OPTION_ABSTAIN':'Abstain'})"
   ]
  },
  {
   "cell_type": "code",
   "execution_count": 76,
   "metadata": {},
   "outputs": [],
   "source": [
    "df.to_json('../data/votes.json',orient='records')"
   ]
  },
  {
   "cell_type": "code",
   "execution_count": 112,
   "metadata": {},
   "outputs": [],
   "source": [
    "wc = dp.get_date_wallet()\n",
    "wc['date'] = wc['min(date)']\n",
    "wc['age'] = (pd.Timestamp('2022-05-20') - pd.to_datetime(wc.date)).apply(lambda x: x.total_seconds()/3600/24)"
   ]
  },
  {
   "cell_type": "code",
   "execution_count": 78,
   "metadata": {},
   "outputs": [],
   "source": [
    "def typew(date):\n",
    "    if(date<'2021-09-30'):\n",
    "        return 'Pre-Col5'\n",
    "    if((date>='2021-09-30')&(date<='2022-05-07')):\n",
    "        return 'Post-Col5'\n",
    "    if((date>'2021-05-07')):\n",
    "        return 'Post-DePeg'\n",
    "\n",
    "wc['typew'] = wc.date.apply(typew)"
   ]
  },
  {
   "cell_type": "code",
   "execution_count": 115,
   "metadata": {},
   "outputs": [],
   "source": [
    "df.merge(wc[['address','age']], on='address', how='left').to_json('../data/votes.json',orient='records')"
   ]
  },
  {
   "cell_type": "code",
   "execution_count": 79,
   "metadata": {},
   "outputs": [],
   "source": [
    "m = wc.merge(df, on='address')"
   ]
  },
  {
   "cell_type": "code",
   "execution_count": 116,
   "metadata": {},
   "outputs": [
    {
     "data": {
      "text/plain": [
       "<AxesSubplot:title={'center':'Number of Users'}>"
      ]
     },
     "execution_count": 116,
     "metadata": {},
     "output_type": "execute_result"
    },
    {
     "data": {
      "image/png": "[encoded data removed]",
      "text/plain": [
       "<Figure size 432x288 with 1 Axes>"
      ]
     },
     "metadata": {
      "needs_background": "light"
     },
     "output_type": "display_data"
    }
   ],
   "source": [
    "m.typew.value_counts(normalize=True).plot(kind='bar',rot=0, title='Number of Users')"
   ]
  },
  {
   "cell_type": "code",
   "execution_count": 117,
   "metadata": {},
   "outputs": [
    {
     "data": {
      "text/plain": [
       "<AxesSubplot:title={'center':'Voting Power'}, xlabel='typew'>"
      ]
     },
     "execution_count": 117,
     "metadata": {},
     "output_type": "execute_result"
    },
    {
     "data": {
      "image/png": "[encoded data removed]",
      "text/plain": [
       "<Figure size 432x288 with 1 Axes>"
      ]
     },
     "metadata": {
      "needs_background": "light"
     },
     "output_type": "display_data"
    }
   ],
   "source": [
    "dfm = (m.groupby('typew').balance.sum())/1000000\n",
    "(dfm/dfm.sum()*100).plot(kind='bar', rot=0, title='Voting Power')"
   ]
  },
  {
   "cell_type": "code",
   "execution_count": 121,
   "metadata": {},
   "outputs": [
    {
     "data": {
      "text/plain": [
       "<AxesSubplot:title={'center':'Post-DePeg'}>"
      ]
     },
     "execution_count": 121,
     "metadata": {},
     "output_type": "execute_result"
    },
    {
     "data": {
      "image/png": "[encoded data removed]",
      "text/plain": [
       "<Figure size 432x288 with 1 Axes>"
      ]
     },
     "metadata": {
      "needs_background": "light"
     },
     "output_type": "display_data"
    }
   ],
   "source": [
    "t='Post-DePeg'\n",
    "m[m.typew==t].option.value_counts(normalize=True).plot(kind='bar', rot=0, title=t)"
   ]
  },
  {
   "cell_type": "code",
   "execution_count": 100,
   "metadata": {},
   "outputs": [
    {
     "data": {
      "text/plain": [
       "Yes             0.716236\n",
       "No with veto    0.196600\n",
       "No              0.083333\n",
       "Abstain         0.003831\n",
       "Name: option, dtype: float64"
      ]
     },
     "execution_count": 100,
     "metadata": {},
     "output_type": "execute_result"
    }
   ],
   "source": [
    "m[m.typew=='Post-DePeg'].option.value_counts(normalize=True)"
   ]
  },
  {
   "cell_type": "code",
   "execution_count": 93,
   "metadata": {},
   "outputs": [
    {
     "data": {
      "text/plain": [
       "Yes             0.619205\n",
       "No with veto    0.237207\n",
       "No              0.136665\n",
       "Abstain         0.006924\n",
       "Name: option, dtype: float64"
      ]
     },
     "execution_count": 93,
     "metadata": {},
     "output_type": "execute_result"
    }
   ],
   "source": [
    "m[m.typew=='Post-Col5'].option.value_counts(normalize=True)"
   ]
  },
  {
   "cell_type": "code",
   "execution_count": 94,
   "metadata": {},
   "outputs": [
    {
     "data": {
      "text/plain": [
       "Yes             0.734778\n",
       "No with veto    0.161507\n",
       "No              0.091847\n",
       "Abstain         0.011868\n",
       "Name: option, dtype: float64"
      ]
     },
     "execution_count": 94,
     "metadata": {},
     "output_type": "execute_result"
    }
   ],
   "source": [
    "m[m.typew=='Pre-Col5'].option.value_counts(normalize=True)"
   ]
  },
  {
   "cell_type": "code",
   "execution_count": null,
   "metadata": {},
   "outputs": [],
   "source": []
  }
 ],
 "metadata": {
  "kernelspec": {
   "display_name": "Python 3",
   "language": "python",
   "name": "python3"
  },
  "language_info": {
   "codemirror_mode": {
    "name": "ipython",
    "version": 3
   },
   "file_extension": ".py",
   "mimetype": "text/x-python",
   "name": "python",
   "nbconvert_exporter": "python",
   "pygments_lexer": "ipython3",
   "version": "3.8.2"
  }
 },
 "nbformat": 4,
 "nbformat_minor": 4
}
