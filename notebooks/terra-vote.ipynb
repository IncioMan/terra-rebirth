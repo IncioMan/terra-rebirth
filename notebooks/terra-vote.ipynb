{
 "cells": [
  {
   "cell_type": "code",
   "execution_count": 6,
   "metadata": {},
   "outputs": [],
   "source": [
    "import pandas as pd\n",
    "import altair as alt\n",
    "alt.renderers.set_embed_options(theme='dark')\n",
    "pd.set_option('display.max_colwidth', None)"
   ]
  },
  {
   "cell_type": "markdown",
   "metadata": {},
   "source": [
    "# Analysis & Charts"
   ]
  },
  {
   "cell_type": "code",
   "execution_count": 7,
   "metadata": {},
   "outputs": [],
   "source": [
    "def claim(claim_hash):\n",
    "    try:\n",
    "        df_claim = pd.read_json(\n",
    "            f'https://node-api.flipsidecrypto.com/api/v2/queries/{claim_hash}/data/latest',\n",
    "            convert_dates=[\"BLOCK_TIMESTAMP\"],\n",
    "        )\n",
    "    except Exception as e:\n",
    "        print(e)\n",
    "        return \n",
    "    return df_claim"
   ]
  },
  {
   "cell_type": "code",
   "execution_count": 8,
   "metadata": {},
   "outputs": [],
   "source": [
    "class DataProvider:    \n",
    "    \n",
    "    def __init__(self):\n",
    "        self.vote = 'a3efd3f0-724b-4a26-9f92-6083c7c52785'\n",
    "    \n",
    "    def get_vote(self):\n",
    "        df = claim(self.vote)\n",
    "        df.columns = [c.lower() for c in df.columns]\n",
    "        return df\n",
    "    \n",
    "   "
   ]
  },
  {
   "cell_type": "code",
   "execution_count": 9,
   "metadata": {},
   "outputs": [],
   "source": [
    "dp = DataProvider()"
   ]
  },
  {
   "cell_type": "code",
   "execution_count": 13,
   "metadata": {},
   "outputs": [
    {
     "data": {
      "text/html": [
       "<div>\n",
       "<style scoped>\n",
       "    .dataframe tbody tr th:only-of-type {\n",
       "        vertical-align: middle;\n",
       "    }\n",
       "\n",
       "    .dataframe tbody tr th {\n",
       "        vertical-align: top;\n",
       "    }\n",
       "\n",
       "    .dataframe thead th {\n",
       "        text-align: right;\n",
       "    }\n",
       "</style>\n",
       "<table border=\"1\" class=\"dataframe\">\n",
       "  <thead>\n",
       "    <tr style=\"text-align: right;\">\n",
       "      <th></th>\n",
       "      <th>date</th>\n",
       "      <th>address</th>\n",
       "      <th>block_timestamp</th>\n",
       "      <th>tx_id</th>\n",
       "      <th>proposal_id</th>\n",
       "      <th>option</th>\n",
       "      <th>voting_power</th>\n",
       "      <th>balance</th>\n",
       "      <th>currency</th>\n",
       "    </tr>\n",
       "  </thead>\n",
       "  <tbody>\n",
       "    <tr>\n",
       "      <th>0</th>\n",
       "      <td>2022-05-18</td>\n",
       "      <td>terra10ef4efde03ege270dss7gr697c9vnn78dlu0y3</td>\n",
       "      <td>2022-05-18 12:45:21.462</td>\n",
       "      <td>DD9658FDAAC260E62C1FE6C76AD4D340051E1B011FAFFC423EDD8EF0CFC4EACE</td>\n",
       "      <td>1623</td>\n",
       "      <td>VOTE_OPTION_NO_WITH_VETO</td>\n",
       "      <td>NaN</td>\n",
       "      <td>6.3</td>\n",
       "      <td>LUNA</td>\n",
       "    </tr>\n",
       "    <tr>\n",
       "      <th>1</th>\n",
       "      <td>2022-05-18</td>\n",
       "      <td>terra15lwqplpy9m45cyt6e5740tjn7fvf9rggqs3lxm</td>\n",
       "      <td>2022-05-18 13:43:46.525</td>\n",
       "      <td>BB54192D87483E92C894B5E74B6C5085773943D78AB589940EFC6A68BB92B36F</td>\n",
       "      <td>1623</td>\n",
       "      <td>VOTE_OPTION_YES</td>\n",
       "      <td>NaN</td>\n",
       "      <td>0.0</td>\n",
       "      <td>LUNA</td>\n",
       "    </tr>\n",
       "    <tr>\n",
       "      <th>2</th>\n",
       "      <td>2022-05-18</td>\n",
       "      <td>terra1472skx209kxen6xcp8lmghpyjkdsea23nh7386</td>\n",
       "      <td>2022-05-18 13:07:56.294</td>\n",
       "      <td>020DECDE415378C0067A7721DF28AB728C279186E51A3027C9D9A2E67B554D47</td>\n",
       "      <td>1623</td>\n",
       "      <td>VOTE_OPTION_YES</td>\n",
       "      <td>NaN</td>\n",
       "      <td>0.0</td>\n",
       "      <td>LUNA</td>\n",
       "    </tr>\n",
       "    <tr>\n",
       "      <th>3</th>\n",
       "      <td>2022-05-18</td>\n",
       "      <td>terra184620h8m0z75ts2a3wrhj3rfsct5waww507lvl</td>\n",
       "      <td>2022-05-18 17:02:13.630</td>\n",
       "      <td>8318DF81A6D78572DC3A8948F700BC9C8B99516302377294EDB84AE36433EFD7</td>\n",
       "      <td>1623</td>\n",
       "      <td>VOTE_OPTION_NO_WITH_VETO</td>\n",
       "      <td>NaN</td>\n",
       "      <td>0.0</td>\n",
       "      <td>LUNA</td>\n",
       "    </tr>\n",
       "    <tr>\n",
       "      <th>4</th>\n",
       "      <td>2022-05-18</td>\n",
       "      <td>terra1t5tcvnxsjfx5ecz6lclwdcfdw3c2v3t85dwlk7</td>\n",
       "      <td>2022-05-18 13:10:19.719</td>\n",
       "      <td>AAAB7A14A8CCACF32E8DC839AD09AB9D82B65A3597118AA8772A8E1F81DE8E7A</td>\n",
       "      <td>1623</td>\n",
       "      <td>VOTE_OPTION_YES</td>\n",
       "      <td>NaN</td>\n",
       "      <td>0.0</td>\n",
       "      <td>LUNA</td>\n",
       "    </tr>\n",
       "  </tbody>\n",
       "</table>\n",
       "</div>"
      ],
      "text/plain": [
       "        date                                       address  \\\n",
       "0 2022-05-18  terra10ef4efde03ege270dss7gr697c9vnn78dlu0y3   \n",
       "1 2022-05-18  terra15lwqplpy9m45cyt6e5740tjn7fvf9rggqs3lxm   \n",
       "2 2022-05-18  terra1472skx209kxen6xcp8lmghpyjkdsea23nh7386   \n",
       "3 2022-05-18  terra184620h8m0z75ts2a3wrhj3rfsct5waww507lvl   \n",
       "4 2022-05-18  terra1t5tcvnxsjfx5ecz6lclwdcfdw3c2v3t85dwlk7   \n",
       "\n",
       "          block_timestamp  \\\n",
       "0 2022-05-18 12:45:21.462   \n",
       "1 2022-05-18 13:43:46.525   \n",
       "2 2022-05-18 13:07:56.294   \n",
       "3 2022-05-18 17:02:13.630   \n",
       "4 2022-05-18 13:10:19.719   \n",
       "\n",
       "                                                              tx_id  \\\n",
       "0  DD9658FDAAC260E62C1FE6C76AD4D340051E1B011FAFFC423EDD8EF0CFC4EACE   \n",
       "1  BB54192D87483E92C894B5E74B6C5085773943D78AB589940EFC6A68BB92B36F   \n",
       "2  020DECDE415378C0067A7721DF28AB728C279186E51A3027C9D9A2E67B554D47   \n",
       "3  8318DF81A6D78572DC3A8948F700BC9C8B99516302377294EDB84AE36433EFD7   \n",
       "4  AAAB7A14A8CCACF32E8DC839AD09AB9D82B65A3597118AA8772A8E1F81DE8E7A   \n",
       "\n",
       "   proposal_id                    option  voting_power  balance currency  \n",
       "0         1623  VOTE_OPTION_NO_WITH_VETO           NaN      6.3     LUNA  \n",
       "1         1623           VOTE_OPTION_YES           NaN      0.0     LUNA  \n",
       "2         1623           VOTE_OPTION_YES           NaN      0.0     LUNA  \n",
       "3         1623  VOTE_OPTION_NO_WITH_VETO           NaN      0.0     LUNA  \n",
       "4         1623           VOTE_OPTION_YES           NaN      0.0     LUNA  "
      ]
     },
     "execution_count": 13,
     "metadata": {},
     "output_type": "execute_result"
    }
   ],
   "source": [
    "df = dp.get_vote()[['date', 'address', \n",
    "       'block_timestamp', 'tx_id',\n",
    "       'proposal_id', 'option', 'voting_power',  'balance','currency']]\n",
    "df.head()"
   ]
  },
  {
   "cell_type": "code",
   "execution_count": 31,
   "metadata": {},
   "outputs": [],
   "source": [
    "df.set_index('tx_id').to_json('../data/votes_tx.json')"
   ]
  },
  {
   "cell_type": "code",
   "execution_count": 15,
   "metadata": {},
   "outputs": [
    {
     "data": {
      "text/plain": [
       "array(['VOTE_OPTION_NO_WITH_VETO', 'VOTE_OPTION_YES', 'VOTE_OPTION_NO',\n",
       "       'VOTE_OPTION_ABSTAIN'], dtype=object)"
      ]
     },
     "execution_count": 15,
     "metadata": {},
     "output_type": "execute_result"
    }
   ],
   "source": [
    "df.option.unique()"
   ]
  },
  {
   "cell_type": "code",
   "execution_count": 24,
   "metadata": {},
   "outputs": [],
   "source": [
    "df['hours_since_start'] = (df.block_timestamp - df.block_timestamp.min()).apply(lambda x: x.total_seconds() / 3600)"
   ]
  },
  {
   "cell_type": "code",
   "execution_count": 28,
   "metadata": {},
   "outputs": [],
   "source": [
    "df.option = df.option.map({'VOTE_OPTION_NO_WITH_VETO':'No with veto',\n",
    "               'VOTE_OPTION_YES':'Yes',\n",
    "               'VOTE_OPTION_NO':'No',\n",
    "               'VOTE_OPTION_ABSTAIN':'Abstain'})"
   ]
  },
  {
   "cell_type": "code",
   "execution_count": 35,
   "metadata": {},
   "outputs": [],
   "source": [
    "df.to_json('../data/votes.json',orient='records')"
   ]
  },
  {
   "cell_type": "code",
   "execution_count": null,
   "metadata": {},
   "outputs": [],
   "source": []
  }
 ],
 "metadata": {
  "kernelspec": {
   "display_name": "Python 3",
   "language": "python",
   "name": "python3"
  },
  "language_info": {
   "codemirror_mode": {
    "name": "ipython",
    "version": 3
   },
   "file_extension": ".py",
   "mimetype": "text/x-python",
   "name": "python",
   "nbconvert_exporter": "python",
   "pygments_lexer": "ipython3",
   "version": "3.8.2"
  }
 },
 "nbformat": 4,
 "nbformat_minor": 4
}
