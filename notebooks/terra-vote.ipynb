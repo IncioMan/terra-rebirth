{
 "cells": [
  {
   "cell_type": "code",
   "execution_count": 122,
   "metadata": {},
   "outputs": [],
   "source": [
    "import pandas as pd\n",
    "import altair as alt\n",
    "alt.renderers.set_embed_options(theme='dark')\n",
    "pd.set_option('display.max_colwidth', None)"
   ]
  },
  {
   "cell_type": "markdown",
   "metadata": {},
   "source": [
    "# Analysis & Charts"
   ]
  },
  {
   "cell_type": "code",
   "execution_count": 123,
   "metadata": {},
   "outputs": [],
   "source": [
    "def claim(claim_hash):\n",
    "    try:\n",
    "        df_claim = pd.read_json(\n",
    "            f'https://node-api.flipsidecrypto.com/api/v2/queries/{claim_hash}/data/latest',\n",
    "            convert_dates=[\"BLOCK_TIMESTAMP\"],\n",
    "        )\n",
    "    except Exception as e:\n",
    "        print(e)\n",
    "        return \n",
    "    return df_claim"
   ]
  },
  {
   "cell_type": "code",
   "execution_count": 124,
   "metadata": {},
   "outputs": [],
   "source": [
    "class DataProvider:    \n",
    "    \n",
    "    def __init__(self):\n",
    "        self.vote = 'a3efd3f0-724b-4a26-9f92-6083c7c52785'\n",
    "        self.date_wallet = '074c2ad1-a842-442d-a0f5-6456b35be648'\n",
    "    \n",
    "    def get_vote(self):\n",
    "        df = claim(self.vote)\n",
    "        df.columns = [c.lower() for c in df.columns]\n",
    "        return df\n",
    "    \n",
    "    def get_date_wallet(self):\n",
    "        df = claim(self.date_wallet)\n",
    "        df.columns = [c.lower() for c in df.columns]\n",
    "        return df\n",
    "    \n",
    "   "
   ]
  },
  {
   "cell_type": "code",
   "execution_count": 125,
   "metadata": {},
   "outputs": [],
   "source": [
    "dp = DataProvider()"
   ]
  },
  {
   "cell_type": "code",
   "execution_count": 126,
   "metadata": {},
   "outputs": [
    {
     "data": {
      "text/html": [
       "<div>\n",
       "<style scoped>\n",
       "    .dataframe tbody tr th:only-of-type {\n",
       "        vertical-align: middle;\n",
       "    }\n",
       "\n",
       "    .dataframe tbody tr th {\n",
       "        vertical-align: top;\n",
       "    }\n",
       "\n",
       "    .dataframe thead th {\n",
       "        text-align: right;\n",
       "    }\n",
       "</style>\n",
       "<table border=\"1\" class=\"dataframe\">\n",
       "  <thead>\n",
       "    <tr style=\"text-align: right;\">\n",
       "      <th></th>\n",
       "      <th>date</th>\n",
       "      <th>address</th>\n",
       "      <th>block_timestamp</th>\n",
       "      <th>tx_id</th>\n",
       "      <th>proposal_id</th>\n",
       "      <th>option</th>\n",
       "      <th>voting_power</th>\n",
       "      <th>balance</th>\n",
       "      <th>currency</th>\n",
       "    </tr>\n",
       "  </thead>\n",
       "  <tbody>\n",
       "    <tr>\n",
       "      <th>0</th>\n",
       "      <td>2022-05-18</td>\n",
       "      <td>terra1q7nrhflcd0yy0wff0f74h2lvqyke2k4vpf9z9g</td>\n",
       "      <td>2022-05-18 17:31:02.664</td>\n",
       "      <td>5D1DC8CE4B78E4386AEF662E8E8DCD801C8B39A551C044FA4EF5A8209BB9E93D</td>\n",
       "      <td>1623</td>\n",
       "      <td>VOTE_OPTION_YES</td>\n",
       "      <td>NaN</td>\n",
       "      <td>0.000000</td>\n",
       "      <td>LUNA</td>\n",
       "    </tr>\n",
       "    <tr>\n",
       "      <th>1</th>\n",
       "      <td>2022-05-18</td>\n",
       "      <td>terra19vrekcw6ecg3actfc3ecgtc2qe7y3wjurwje7a</td>\n",
       "      <td>2022-05-18 14:55:32.596</td>\n",
       "      <td>5A79883EAB01078920FA186CD377BCBE463022589ECE8ECBF06AA931EF708A5E</td>\n",
       "      <td>1623</td>\n",
       "      <td>VOTE_OPTION_YES</td>\n",
       "      <td>NaN</td>\n",
       "      <td>0.000000</td>\n",
       "      <td>LUNA</td>\n",
       "    </tr>\n",
       "    <tr>\n",
       "      <th>2</th>\n",
       "      <td>2022-05-18</td>\n",
       "      <td>terra1nk9e0l7xmfuvrylhwny7udh90h5wqkahxlj0c5</td>\n",
       "      <td>2022-05-18 18:41:31.731</td>\n",
       "      <td>299239CEC800FB742AC28AB976E2C6A8A0990FCE95010DC07401D9DE2DF7430E</td>\n",
       "      <td>1623</td>\n",
       "      <td>VOTE_OPTION_NO</td>\n",
       "      <td>NaN</td>\n",
       "      <td>0.000000</td>\n",
       "      <td>LUNA</td>\n",
       "    </tr>\n",
       "    <tr>\n",
       "      <th>3</th>\n",
       "      <td>2022-05-18</td>\n",
       "      <td>terra100a4ayedcdr0v2vrrqcc340anlpx2xg4tz0efq</td>\n",
       "      <td>2022-05-18 17:21:04.183</td>\n",
       "      <td>0E8C472DBB25EC0719702C7748291A30FE981C153B8FD1DE4F3A9538EBCD8BB6</td>\n",
       "      <td>1623</td>\n",
       "      <td>VOTE_OPTION_NO_WITH_VETO</td>\n",
       "      <td>NaN</td>\n",
       "      <td>0.000000</td>\n",
       "      <td>LUNA</td>\n",
       "    </tr>\n",
       "    <tr>\n",
       "      <th>4</th>\n",
       "      <td>2022-05-18</td>\n",
       "      <td>terra1s3s9vygaydnlwjw3s0tnz7faz59e032gmut3vq</td>\n",
       "      <td>2022-05-18 13:16:43.245</td>\n",
       "      <td>5068DB680D7264A0248E148491DA8B90B6D30A07526BF1DAEBB759E6D2628C12</td>\n",
       "      <td>1623</td>\n",
       "      <td>VOTE_OPTION_NO_WITH_VETO</td>\n",
       "      <td>NaN</td>\n",
       "      <td>1000.908722</td>\n",
       "      <td>LUNA</td>\n",
       "    </tr>\n",
       "  </tbody>\n",
       "</table>\n",
       "</div>"
      ],
      "text/plain": [
       "        date                                       address  \\\n",
       "0 2022-05-18  terra1q7nrhflcd0yy0wff0f74h2lvqyke2k4vpf9z9g   \n",
       "1 2022-05-18  terra19vrekcw6ecg3actfc3ecgtc2qe7y3wjurwje7a   \n",
       "2 2022-05-18  terra1nk9e0l7xmfuvrylhwny7udh90h5wqkahxlj0c5   \n",
       "3 2022-05-18  terra100a4ayedcdr0v2vrrqcc340anlpx2xg4tz0efq   \n",
       "4 2022-05-18  terra1s3s9vygaydnlwjw3s0tnz7faz59e032gmut3vq   \n",
       "\n",
       "          block_timestamp  \\\n",
       "0 2022-05-18 17:31:02.664   \n",
       "1 2022-05-18 14:55:32.596   \n",
       "2 2022-05-18 18:41:31.731   \n",
       "3 2022-05-18 17:21:04.183   \n",
       "4 2022-05-18 13:16:43.245   \n",
       "\n",
       "                                                              tx_id  \\\n",
       "0  5D1DC8CE4B78E4386AEF662E8E8DCD801C8B39A551C044FA4EF5A8209BB9E93D   \n",
       "1  5A79883EAB01078920FA186CD377BCBE463022589ECE8ECBF06AA931EF708A5E   \n",
       "2  299239CEC800FB742AC28AB976E2C6A8A0990FCE95010DC07401D9DE2DF7430E   \n",
       "3  0E8C472DBB25EC0719702C7748291A30FE981C153B8FD1DE4F3A9538EBCD8BB6   \n",
       "4  5068DB680D7264A0248E148491DA8B90B6D30A07526BF1DAEBB759E6D2628C12   \n",
       "\n",
       "   proposal_id                    option  voting_power      balance currency  \n",
       "0         1623           VOTE_OPTION_YES           NaN     0.000000     LUNA  \n",
       "1         1623           VOTE_OPTION_YES           NaN     0.000000     LUNA  \n",
       "2         1623            VOTE_OPTION_NO           NaN     0.000000     LUNA  \n",
       "3         1623  VOTE_OPTION_NO_WITH_VETO           NaN     0.000000     LUNA  \n",
       "4         1623  VOTE_OPTION_NO_WITH_VETO           NaN  1000.908722     LUNA  "
      ]
     },
     "execution_count": 126,
     "metadata": {},
     "output_type": "execute_result"
    }
   ],
   "source": [
    "df = dp.get_vote()[['date', 'address', \n",
    "       'block_timestamp', 'tx_id',\n",
    "       'proposal_id', 'option', 'voting_power',  'balance','currency']]\n",
    "df.head()"
   ]
  },
  {
   "cell_type": "code",
   "execution_count": 127,
   "metadata": {},
   "outputs": [],
   "source": [
    "df.set_index('tx_id').to_json('../data/votes_tx.json')"
   ]
  },
  {
   "cell_type": "code",
   "execution_count": 128,
   "metadata": {},
   "outputs": [
    {
     "data": {
      "text/plain": [
       "array(['VOTE_OPTION_YES', 'VOTE_OPTION_NO', 'VOTE_OPTION_NO_WITH_VETO',\n",
       "       'VOTE_OPTION_ABSTAIN'], dtype=object)"
      ]
     },
     "execution_count": 128,
     "metadata": {},
     "output_type": "execute_result"
    }
   ],
   "source": [
    "df.option.unique()"
   ]
  },
  {
   "cell_type": "code",
   "execution_count": 129,
   "metadata": {},
   "outputs": [],
   "source": [
    "df['hours_since_start'] = (df.block_timestamp - df.block_timestamp.min()).apply(lambda x: x.total_seconds() / 3600)"
   ]
  },
  {
   "cell_type": "code",
   "execution_count": 130,
   "metadata": {},
   "outputs": [],
   "source": [
    "df.option = df.option.map({'VOTE_OPTION_NO_WITH_VETO':'No with veto',\n",
    "               'VOTE_OPTION_YES':'Yes',\n",
    "               'VOTE_OPTION_NO':'No',\n",
    "               'VOTE_OPTION_ABSTAIN':'Abstain'})"
   ]
  },
  {
   "cell_type": "code",
   "execution_count": 131,
   "metadata": {},
   "outputs": [],
   "source": [
    "df.to_json('../data/votes.json',orient='records')"
   ]
  },
  {
   "cell_type": "code",
   "execution_count": 132,
   "metadata": {},
   "outputs": [],
   "source": [
    "wc = dp.get_date_wallet()\n",
    "wc['date'] = wc['min(date)']\n",
    "wc['age'] = (pd.Timestamp('2022-05-20') - pd.to_datetime(wc.date)).apply(lambda x: x.total_seconds()/3600/24)"
   ]
  },
  {
   "cell_type": "code",
   "execution_count": 133,
   "metadata": {},
   "outputs": [],
   "source": [
    "def typew(date):\n",
    "    if(date<'2021-09-30'):\n",
    "        return 'Pre-Col5'\n",
    "    if((date>='2021-09-30')&(date<='2022-05-07')):\n",
    "        return 'Post-Col5'\n",
    "    if((date>'2021-05-07')):\n",
    "        return 'Post-DePeg'\n",
    "\n",
    "wc['typew'] = wc.date.apply(typew)"
   ]
  },
  {
   "cell_type": "code",
   "execution_count": 134,
   "metadata": {},
   "outputs": [],
   "source": [
    "df.merge(wc[['address','age']], on='address', how='left').to_json('../data/votes.json',orient='records')"
   ]
  },
  {
   "cell_type": "code",
   "execution_count": 135,
   "metadata": {},
   "outputs": [],
   "source": [
    "m = wc.merge(df, on='address')"
   ]
  },
  {
   "cell_type": "code",
   "execution_count": 136,
   "metadata": {},
   "outputs": [
    {
     "data": {
      "text/plain": [
       "<AxesSubplot:title={'center':'Number of Users'}>"
      ]
     },
     "execution_count": 136,
     "metadata": {},
     "output_type": "execute_result"
    },
    {
     "data": {
      "image/png": "[encoded data removed]",
      "text/plain": [
       "<Figure size 432x288 with 1 Axes>"
      ]
     },
     "metadata": {
      "needs_background": "light"
     },
     "output_type": "display_data"
    }
   ],
   "source": [
    "m.typew.value_counts(normalize=True).plot(kind='bar',rot=0, title='Number of Users')"
   ]
  },
  {
   "cell_type": "code",
   "execution_count": 137,
   "metadata": {},
   "outputs": [
    {
     "data": {
      "text/plain": [
       "<AxesSubplot:title={'center':'Voting Power'}, xlabel='typew'>"
      ]
     },
     "execution_count": 137,
     "metadata": {},
     "output_type": "execute_result"
    },
    {
     "data": {
      "image/png": "[encoded data removed]",
      "text/plain": [
       "<Figure size 432x288 with 1 Axes>"
      ]
     },
     "metadata": {
      "needs_background": "light"
     },
     "output_type": "display_data"
    }
   ],
   "source": [
    "dfm = (m.groupby('typew').balance.sum())/1000000\n",
    "(dfm/dfm.sum()*100).plot(kind='bar', rot=0, title='Voting Power')"
   ]
  },
  {
   "cell_type": "code",
   "execution_count": 144,
   "metadata": {},
   "outputs": [
    {
     "data": {
      "text/plain": [
       "<AxesSubplot:title={'center':'Pre-Col5'}>"
      ]
     },
     "execution_count": 144,
     "metadata": {},
     "output_type": "execute_result"
    },
    {
     "data": {
      "image/png": "[encoded data removed]",
      "text/plain": [
       "<Figure size 432x288 with 1 Axes>"
      ]
     },
     "metadata": {
      "needs_background": "light"
     },
     "output_type": "display_data"
    }
   ],
   "source": [
    "m.option.value_counts(normalize=True).plot(kind='bar', rot=0, title=t)"
   ]
  },
  {
   "cell_type": "code",
   "execution_count": 143,
   "metadata": {},
   "outputs": [
    {
     "data": {
      "text/plain": [
       "<AxesSubplot:title={'center':'Pre-Col5'}>"
      ]
     },
     "execution_count": 143,
     "metadata": {},
     "output_type": "execute_result"
    },
    {
     "data": {
      "image/png": "[encoded data removed]",
      "text/plain": [
       "<Figure size 432x288 with 1 Axes>"
      ]
     },
     "metadata": {
      "needs_background": "light"
     },
     "output_type": "display_data"
    }
   ],
   "source": [
    "t='Pre-Col5'\n",
    "m[m.typew==t].option.value_counts(normalize=True).plot(kind='bar', rot=0, title=t)"
   ]
  },
  {
   "cell_type": "code",
   "execution_count": 139,
   "metadata": {},
   "outputs": [
    {
     "data": {
      "text/plain": [
       "Yes             0.728565\n",
       "No with veto    0.209439\n",
       "No              0.058332\n",
       "Abstain         0.003664\n",
       "Name: option, dtype: float64"
      ]
     },
     "execution_count": 139,
     "metadata": {},
     "output_type": "execute_result"
    }
   ],
   "source": [
    "m[m.typew=='Post-DePeg'].option.value_counts(normalize=True)"
   ]
  },
  {
   "cell_type": "code",
   "execution_count": 140,
   "metadata": {},
   "outputs": [
    {
     "data": {
      "text/plain": [
       "Yes             0.616315\n",
       "No with veto    0.242194\n",
       "No              0.133615\n",
       "Abstain         0.007876\n",
       "Name: option, dtype: float64"
      ]
     },
     "execution_count": 140,
     "metadata": {},
     "output_type": "execute_result"
    }
   ],
   "source": [
    "m[m.typew=='Post-Col5'].option.value_counts(normalize=True)"
   ]
  },
  {
   "cell_type": "code",
   "execution_count": 141,
   "metadata": {},
   "outputs": [
    {
     "data": {
      "text/plain": [
       "Yes             0.733875\n",
       "No with veto    0.161968\n",
       "No              0.092212\n",
       "Abstain         0.011945\n",
       "Name: option, dtype: float64"
      ]
     },
     "execution_count": 141,
     "metadata": {},
     "output_type": "execute_result"
    }
   ],
   "source": [
    "m[m.typew=='Pre-Col5'].option.value_counts(normalize=True)"
   ]
  },
  {
   "cell_type": "code",
   "execution_count": null,
   "metadata": {},
   "outputs": [],
   "source": []
  }
 ],
 "metadata": {
  "kernelspec": {
   "display_name": "Python 3",
   "language": "python",
   "name": "python3"
  },
  "language_info": {
   "codemirror_mode": {
    "name": "ipython",
    "version": 3
   },
   "file_extension": ".py",
   "mimetype": "text/x-python",
   "name": "python",
   "nbconvert_exporter": "python",
   "pygments_lexer": "ipython3",
   "version": "3.8.2"
  }
 },
 "nbformat": 4,
 "nbformat_minor": 4
}
